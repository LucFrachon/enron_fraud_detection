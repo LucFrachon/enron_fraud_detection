{
 "cells": [
  {
   "cell_type": "markdown",
   "metadata": {},
   "source": [
    "# Identify Fraud from Enron email\n",
    "## Machine Learning Project\n",
    "___"
   ]
  },
  {
   "cell_type": "markdown",
   "metadata": {},
   "source": [
    "### Tools library"
   ]
  },
  {
   "cell_type": "code",
   "execution_count": 114,
   "metadata": {
    "collapsed": false
   },
   "outputs": [],
   "source": [
    "#!/usr/bin/python\n",
    "\n",
    "\"\"\" \n",
    "    A general tool for converting data from the\n",
    "    dictionary format to an (n x k) python list that's \n",
    "    ready for training an sklearn algorithm\n",
    "\n",
    "    n--no. of key-value pairs in dictonary\n",
    "    k--no. of features being extracted\n",
    "\n",
    "    dictionary keys are names of persons in dataset\n",
    "    dictionary values are dictionaries, where each\n",
    "        key-value pair in the dict is the name\n",
    "        of a feature, and its value for that person\n",
    "\n",
    "    In addition to converting a dictionary to a numpy \n",
    "    array, you may want to separate the labels from the\n",
    "    features--this is what targetFeatureSplit is for\n",
    "\n",
    "    so, if you want to have the poi label as the target,\n",
    "    and the features you want to use are the person's\n",
    "    salary and bonus, here's what you would do:\n",
    "\n",
    "    feature_list = [\"poi\", \"salary\", \"bonus\"] \n",
    "    data_array = featureFormat( data_dictionary, feature_list )\n",
    "    label, features = targetFeatureSplit(data_array)\n",
    "\n",
    "    the line above (targetFeatureSplit) assumes that the\n",
    "    label is the _first_ item in feature_list--very important\n",
    "    that poi is listed first!\n",
    "\"\"\"\n",
    "\n",
    "\n",
    "import numpy as np\n",
    "import pickle\n",
    "import sys\n",
    "from sklearn.cross_validation import StratifiedShuffleSplit\n",
    "sys.path.append(\"../tools/\")\n",
    "#from feature_format import featureFormat, targetFeatureSplit\n",
    "\n",
    "def featureFormat( dictionary, features, remove_NaN=True, remove_all_zeroes=True, remove_any_zeroes=False, sort_keys = False):\n",
    "    \"\"\" convert dictionary to numpy array of features\n",
    "        remove_NaN = True will convert \"NaN\" string to 0.0\n",
    "        remove_all_zeroes = True will omit any data points for which\n",
    "            all the features you seek are 0.0\n",
    "        remove_any_zeroes = True will omit any data points for which\n",
    "            any of the features you seek are 0.0\n",
    "        sort_keys = True sorts keys by alphabetical order. Setting the value as\n",
    "            a string opens the corresponding pickle file with a preset key\n",
    "            order (this is used for Python 3 compatibility, and sort_keys\n",
    "            should be left as False for the course mini-projects).\n",
    "        NOTE: first feature is assumed to be 'poi' and is not checked for\n",
    "            removal for zero or missing values.\n",
    "    \"\"\"\n",
    "\n",
    "\n",
    "    return_list = []\n",
    "\n",
    "    # Key order - first branch is for Python 3 compatibility on mini-projects,\n",
    "    # second branch is for compatibility on final project.\n",
    "    if isinstance(sort_keys, str):\n",
    "        import pickle\n",
    "        keys = pickle.load(open(sort_keys, \"rb\"))\n",
    "    elif sort_keys:\n",
    "        keys = sorted(dictionary.keys())\n",
    "    else:\n",
    "        keys = dictionary.keys()\n",
    "\n",
    "    for key in keys:\n",
    "        tmp_list = []\n",
    "        for feature in features:\n",
    "            try:\n",
    "                dictionary[key][feature]\n",
    "            except KeyError:\n",
    "                print \"error: key \", feature, \" not present\"\n",
    "                return\n",
    "            value = dictionary[key][feature]\n",
    "            if value==\"NaN\" and remove_NaN:\n",
    "                value = 0\n",
    "            tmp_list.append( float(value) )\n",
    "\n",
    "        # Logic for deciding whether or not to add the data point.\n",
    "        append = True\n",
    "        # exclude 'poi' class as criteria.\n",
    "        if features[0] == 'poi':\n",
    "            test_list = tmp_list[1:]\n",
    "        else:\n",
    "            test_list = tmp_list\n",
    "        ### if all features are zero and you want to remove\n",
    "        ### data points that are all zero, do that here\n",
    "        if remove_all_zeroes:\n",
    "            append = False\n",
    "            for item in test_list:\n",
    "                if item != 0 and item != \"NaN\":\n",
    "                    append = True\n",
    "                    break\n",
    "        ### if any features for a given data point are zero\n",
    "        ### and you want to remove data points with any zeroes,\n",
    "        ### handle that here\n",
    "        if remove_any_zeroes:\n",
    "            if 0 in test_list or \"NaN\" in test_list:\n",
    "                append = False\n",
    "        ### Append the data point if flagged for addition.\n",
    "        if append:\n",
    "            return_list.append( np.array(tmp_list) )\n",
    "\n",
    "    return np.array(return_list)\n",
    "\n",
    "\n",
    "def targetFeatureSplit( data ):\n",
    "    \"\"\" \n",
    "        given a numpy array like the one returned from\n",
    "        featureFormat, separate out the first feature\n",
    "        and put it into its own list (this should be the \n",
    "        quantity you want to predict)\n",
    "\n",
    "        return targets and features as separate lists\n",
    "\n",
    "        (sklearn can generally handle both lists and numpy arrays as \n",
    "        input formats when training/predicting)\n",
    "    \"\"\"\n",
    "\n",
    "    target = []\n",
    "    features = []\n",
    "    for item in data:\n",
    "        target.append( item[0] )\n",
    "        features.append( item[1:] )\n",
    "\n",
    "    return target, features"
   ]
  },
  {
   "cell_type": "markdown",
   "metadata": {},
   "source": [
    "### Tester module"
   ]
  },
  {
   "cell_type": "code",
   "execution_count": 115,
   "metadata": {
    "collapsed": false
   },
   "outputs": [],
   "source": [
    "#!/usr/bin/pickle\n",
    "\n",
    "\"\"\" a basic script for importing student's POI identifier,\n",
    "    and checking the results that they get from it \n",
    " \n",
    "    requires that the algorithm, dataset, and features list\n",
    "    be written to my_classifier.pkl, my_dataset.pkl, and\n",
    "    my_feature_list.pkl, respectively\n",
    "\n",
    "    that process should happen at the end of poi_id.py\n",
    "\"\"\"\n",
    "\n",
    "import pickle\n",
    "import sys\n",
    "from sklearn.cross_validation import StratifiedShuffleSplit\n",
    "sys.path.append(\"../tools/\")\n",
    "#from feature_format import featureFormat, targetFeatureSplit\n",
    "\n",
    "PERF_FORMAT_STRING = \"\\\n",
    "\\tAccuracy: {:>0.{display_precision}f}\\tPrecision: {:>0.{display_precision}f}\\t\\\n",
    "Recall: {:>0.{display_precision}f}\\tF1: {:>0.{display_precision}f}\\tF2: {:>0.{display_precision}f}\"\n",
    "RESULTS_FORMAT_STRING = \"\\tTotal predictions: {:4d}\\tTrue positives: {:4d}\\tFalse positives: {:4d}\\\n",
    "\\tFalse negatives: {:4d}\\tTrue negatives: {:4d}\"\n",
    "\n",
    "def test_classifier(clf, dataset, feature_list, folds = 1000):\n",
    "    data = featureFormat(dataset, feature_list, sort_keys = True)\n",
    "    labels, features = targetFeatureSplit(data)\n",
    "    print labels\n",
    "    print features\n",
    "    cv = StratifiedShuffleSplit(labels, folds, random_state = 42)\n",
    "    true_negatives = 0\n",
    "    false_negatives = 0\n",
    "    true_positives = 0\n",
    "    false_positives = 0\n",
    "    for train_idx, test_idx in cv: \n",
    "        features_train = []\n",
    "        features_test  = []\n",
    "        labels_train   = []\n",
    "        labels_test    = []\n",
    "        for ii in train_idx:\n",
    "            features_train.append( features[ii] )\n",
    "            labels_train.append( labels[ii] )\n",
    "        for jj in test_idx:\n",
    "            features_test.append( features[jj] )\n",
    "            labels_test.append( labels[jj] )\n",
    "        \n",
    "        ### fit the classifier using training set, and test on test set\n",
    "        clf.fit(features_train, labels_train)\n",
    "        predictions = clf.predict(features_test)\n",
    "        for prediction, truth in zip(predictions, labels_test):\n",
    "            if prediction == 0 and truth == 0:\n",
    "                true_negatives += 1\n",
    "            elif prediction == 0 and truth == 1:\n",
    "                false_negatives += 1\n",
    "            elif prediction == 1 and truth == 0:\n",
    "                false_positives += 1\n",
    "            elif prediction == 1 and truth == 1:\n",
    "                true_positives += 1\n",
    "            else:\n",
    "                print \"Warning: Found a predicted label not == 0 or 1.\"\n",
    "                print \"All predictions should take value 0 or 1.\"\n",
    "                print \"Evaluating performance for processed predictions:\"\n",
    "                break\n",
    "    #print true_negatives, false_negatives, true_positives, false_positives\n",
    "    \n",
    "    try:\n",
    "        total_predictions = true_negatives + false_negatives + false_positives + true_positives\n",
    "        accuracy = 1.0*(true_positives + true_negatives)/total_predictions\n",
    "        precision = 1.0*true_positives/(true_positives+false_positives)\n",
    "        recall = 1.0*true_positives/(true_positives+false_negatives)\n",
    "        f1 = 2.0 * true_positives/(2*true_positives + false_positives+false_negatives)\n",
    "        f2 = (1+2.0*2.0) * precision*recall/(4*precision + recall)\n",
    "        print clf\n",
    "        print PERF_FORMAT_STRING.format(accuracy, precision, recall, f1, f2, display_precision = 5)\n",
    "        print RESULTS_FORMAT_STRING.format(total_predictions, true_positives, false_positives, false_negatives, true_negatives)\n",
    "        print \"\"\n",
    "    except:\n",
    "        print \"Got a divide by zero when trying out:\", clf\n",
    "        print \"Precision or recall may be undefined due to a lack of true positive predicitons.\"\n",
    "\n",
    "CLF_PICKLE_FILENAME = \"my_classifier.pkl\"\n",
    "DATASET_PICKLE_FILENAME = \"my_dataset.pkl\"\n",
    "FEATURE_LIST_FILENAME = \"my_feature_list.pkl\"\n",
    "\n",
    "def dump_classifier_and_data(clf, dataset, feature_list):\n",
    "    with open(CLF_PICKLE_FILENAME, \"w\") as clf_outfile:\n",
    "        pickle.dump(clf, clf_outfile)\n",
    "    with open(DATASET_PICKLE_FILENAME, \"w\") as dataset_outfile:\n",
    "        pickle.dump(dataset, dataset_outfile)\n",
    "    with open(FEATURE_LIST_FILENAME, \"w\") as featurelist_outfile:\n",
    "        pickle.dump(feature_list, featurelist_outfile)\n",
    "\n",
    "def load_classifier_and_data():\n",
    "    with open(CLF_PICKLE_FILENAME, \"r\") as clf_infile:\n",
    "        clf = pickle.load(clf_infile)\n",
    "    with open(DATASET_PICKLE_FILENAME, \"r\") as dataset_infile:\n",
    "        dataset = pickle.load(dataset_infile)\n",
    "    with open(FEATURE_LIST_FILENAME, \"r\") as featurelist_infile:\n",
    "        feature_list = pickle.load(featurelist_infile)\n",
    "    return clf, dataset, feature_list\n",
    "\n",
    "def main():\n",
    "    ### load up student's classifier, dataset, and feature_list\n",
    "    clf, dataset, feature_list = load_classifier_and_data()\n",
    "    ### Run testing script\n",
    "    test_classifier(clf, dataset, feature_list)\n",
    "\n",
    "#if __name__ == '__main__':\n",
    "#    main()\n"
   ]
  },
  {
   "cell_type": "markdown",
   "metadata": {},
   "source": [
    "### Data exploration and cleaning"
   ]
  },
  {
   "cell_type": "code",
   "execution_count": 116,
   "metadata": {
    "collapsed": true
   },
   "outputs": [],
   "source": [
    "import matplotlib.pyplot as plt\n",
    "import pandas as pd\n",
    "% matplotlib inline\n",
    "\n",
    "# Load data from pickle files:\n",
    "with open('final_project_dataset.pkl', 'rb') as f:\n",
    "    data_dict = pickle.load(f)"
   ]
  },
  {
   "cell_type": "markdown",
   "metadata": {},
   "source": [
    "* **Basic statistics:**"
   ]
  },
  {
   "cell_type": "code",
   "execution_count": 117,
   "metadata": {
    "collapsed": false
   },
   "outputs": [
    {
     "name": "stdout",
     "output_type": "stream",
     "text": [
      "Dataset type: <type 'dict'>\n",
      "Number of key-value pairs in dictionary: 146\n",
      "List of keys in dictionary: ['METTS MARK', 'BAXTER JOHN C', 'ELLIOTT STEVEN', 'CORDES WILLIAM R', 'HANNON KEVIN P', 'MORDAUNT KRISTINA M', 'MEYER ROCKFORD G', 'MCMAHON JEFFREY', 'HORTON STANLEY C', 'PIPER GREGORY F', 'HUMPHREY GENE E', 'UMANOFF ADAM S', 'BLACHMAN JEREMY M', 'SUNDE MARTIN', 'GIBBS DANA R', 'LOWRY CHARLES P', 'COLWELL WESLEY', 'MULLER MARK S', 'JACKSON CHARLENE R', 'WESTFAHL RICHARD K', 'WALTERS GARETH W', 'WALLS JR ROBERT H', 'KITCHEN LOUISE', 'CHAN RONNIE', 'BELFER ROBERT', 'SHANKMAN JEFFREY A', 'WODRASKA JOHN', 'BERGSIEKER RICHARD P', 'URQUHART JOHN A', 'BIBI PHILIPPE A', 'RIEKER PAULA H', 'WHALEY DAVID A', 'BECK SALLY W', 'HAUG DAVID L', 'ECHOLS JOHN B', 'MENDELSOHN JOHN', 'HICKERSON GARY J', 'CLINE KENNETH W', 'LEWIS RICHARD', 'HAYES ROBERT E', 'MCCARTY DANNY J', 'KOPPER MICHAEL J', 'LEFF DANIEL P', 'LAVORATO JOHN J', 'BERBERIAN DAVID', 'DETMERING TIMOTHY J', 'WAKEHAM JOHN', 'POWERS WILLIAM', 'GOLD JOSEPH', 'BANNANTINE JAMES M', 'DUNCAN JOHN H', 'SHAPIRO RICHARD S', 'SHERRIFF JOHN R', 'SHELBY REX', 'LEMAISTRE CHARLES', 'DEFFNER JOSEPH M', 'KISHKILL JOSEPH G', 'WHALLEY LAWRENCE G', 'MCCONNELL MICHAEL S', 'PIRO JIM', 'DELAINEY DAVID W', 'SULLIVAN-SHAKLOVITZ COLLEEN', 'WROBEL BRUCE', 'LINDHOLM TOD A', 'MEYER JEROME J', 'LAY KENNETH L', 'BUTTS ROBERT H', 'OLSON CINDY K', 'MCDONALD REBECCA', 'CUMBERLAND MICHAEL S', 'GAHN ROBERT S', 'MCCLELLAN GEORGE', 'HERMANN ROBERT J', 'SCRIMSHAW MATTHEW', 'GATHMANN WILLIAM D', 'HAEDICKE MARK E', 'BOWEN JR RAYMOND M', 'GILLIS JOHN', 'FITZGERALD JAY L', 'MORAN MICHAEL P', 'REDMOND BRIAN L', 'BAZELIDES PHILIP J', 'BELDEN TIMOTHY N', 'DURAN WILLIAM D', 'THORN TERENCE H', 'FASTOW ANDREW S', 'FOY JOE', 'CALGER CHRISTOPHER F', 'RICE KENNETH D', 'KAMINSKI WINCENTY J', 'LOCKHART EUGENE E', 'COX DAVID', 'OVERDYKE JR JERE C', 'PEREIRA PAULO V. FERRAZ', 'STABLER FRANK', 'SKILLING JEFFREY K', 'BLAKE JR. NORMAN P', 'SHERRICK JEFFREY B', 'PRENTICE JAMES', 'GRAY RODNEY', 'PICKERING MARK R', 'THE TRAVEL AGENCY IN THE PARK', 'NOLES JAMES L', 'KEAN STEVEN J', 'TOTAL', 'FOWLER PEGGY', 'WASAFF GEORGE', 'WHITE JR THOMAS E', 'CHRISTODOULOU DIOMEDES', 'ALLEN PHILLIP K', 'SHARP VICTORIA T', 'JAEDICKE ROBERT', 'WINOKUR JR. HERBERT S', 'BROWN MICHAEL', 'BADUM JAMES P', 'HUGHES JAMES A', 'REYNOLDS LAWRENCE', 'DIMICHELE RICHARD G', 'BHATNAGAR SANJAY', 'CARTER REBECCA C', 'BUCHANAN HAROLD G', 'YEAP SOON', 'MURRAY JULIA H', 'GARLAND C KEVIN', 'DODSON KEITH', 'YEAGER F SCOTT', 'HIRKO JOSEPH', 'DIETRICH JANET R', 'DERRICK JR. JAMES V', 'FREVERT MARK A', 'PAI LOU L', 'BAY FRANKLIN R', 'HAYSLETT RODERICK J', 'FUGH JOHN L', 'FALLON JAMES B', 'KOENIG MARK E', 'SAVAGE FRANK', 'IZZO LAWRENCE L', 'TILNEY ELIZABETH A', 'MARTIN AMANDA K', 'BUY RICHARD B', 'GRAMM WENDY L', 'CAUSEY RICHARD A', 'TAYLOR MITCHELL S', 'DONAHUE JR JEFFREY M', 'GLISAN JR BEN F']\n",
      "Number of elements in a key-value pair: 21\n",
      "Example of contents of a key-value pair: {'salary': 304110, 'to_messages': 3221, 'deferral_payments': 'NaN', 'total_payments': 3038702, 'exercised_stock_options': 1441898, 'bonus': 2000000, 'restricted_stock': 630137, 'shared_receipt_with_poi': 1730, 'restricted_stock_deferred': 'NaN', 'total_stock_value': 2072035, 'expenses': 178979, 'loan_advances': 'NaN', 'from_messages': 2681, 'other': 1191, 'from_this_person_to_poi': 83, 'poi': False, 'director_fees': 'NaN', 'deferred_income': 'NaN', 'long_term_incentive': 554422, 'email_address': 'jeffrey.shankman@enron.com', 'from_poi_to_this_person': 94}\n"
     ]
    }
   ],
   "source": [
    "print \"Dataset type:\", type(data_dict)\n",
    "print \"Number of key-value pairs in dictionary:\", len(data_dict)\n",
    "print \"List of keys in dictionary:\", data_dict.keys()\n",
    "print \"Number of elements in a key-value pair:\", len(data_dict['SHANKMAN JEFFREY A'])\n",
    "print \"Example of contents of a key-value pair:\", data_dict['SHANKMAN JEFFREY A']"
   ]
  },
  {
   "cell_type": "markdown",
   "metadata": {},
   "source": [
    "This shows that the dataset is stored as a dictionary. Each person in the dataset is represented by a key-value pair. There are 146 such pairs.\n",
    "\n",
    "The value is itself a dictionary containing 21 key-value pairs corresponding to the financial and email features."
   ]
  },
  {
   "cell_type": "markdown",
   "metadata": {},
   "source": [
    "* **Feature exploration:**\n",
    "We first need to convert the dataset into a Panda dataframe for convenience."
   ]
  },
  {
   "cell_type": "code",
   "execution_count": 118,
   "metadata": {
    "collapsed": false
   },
   "outputs": [],
   "source": [
    "features_list = ['poi', 'salary', 'bonus', 'long_term_incentive', 'deferred_income', 'deferral_payments', \n",
    "                 'loan_advances','other', 'expenses', 'director_fees', 'total_payments', \n",
    "                 'exercised_stock_options', 'restricted_stock', 'restricted_stock_deferred', 'total_stock_value',\n",
    "                 'from_messages', 'to_messages', 'from_poi_to_this_person', 'from_this_person_to_poi', \n",
    "                 'shared_receipt_with_poi']\n",
    "\n",
    "data_df = pd.DataFrame.from_dict(data_dict, orient = 'index', dtype = float)\n"
   ]
  },
  {
   "cell_type": "markdown",
   "metadata": {},
   "source": [
    "Let's have a look at missing values:"
   ]
  },
  {
   "cell_type": "code",
   "execution_count": 119,
   "metadata": {
    "collapsed": false
   },
   "outputs": [
    {
     "data": {
      "text/plain": [
       "loan_advances                142\n",
       "director_fees                129\n",
       "restricted_stock_deferred    128\n",
       "deferral_payments            107\n",
       "deferred_income               97\n",
       "long_term_incentive           80\n",
       "bonus                         64\n",
       "from_poi_to_this_person       60\n",
       "shared_receipt_with_poi       60\n",
       "to_messages                   60\n",
       "from_this_person_to_poi       60\n",
       "from_messages                 60\n",
       "other                         53\n",
       "expenses                      51\n",
       "salary                        51\n",
       "exercised_stock_options       44\n",
       "restricted_stock              36\n",
       "total_payments                21\n",
       "total_stock_value             20\n",
       "email_address                  0\n",
       "poi                            0\n",
       "dtype: int64"
      ]
     },
     "execution_count": 119,
     "metadata": {},
     "output_type": "execute_result"
    }
   ],
   "source": [
    "data_df.isnull().sum(axis = 0).sort_values(ascending = False)"
   ]
  },
  {
   "cell_type": "markdown",
   "metadata": {},
   "source": [
    "The column `loan_advances` has 142 missing values out of 146 observations.It is unlikely to be useful in the model we are trying to build."
   ]
  },
  {
   "cell_type": "code",
   "execution_count": 120,
   "metadata": {
    "collapsed": false,
    "scrolled": true
   },
   "outputs": [
    {
     "data": {
      "text/plain": [
       "LOCKHART EUGENE E                19\n",
       "GRAMM WENDY L                    17\n",
       "WROBEL BRUCE                     17\n",
       "WODRASKA JOHN                    17\n",
       "THE TRAVEL AGENCY IN THE PARK    17\n",
       "WHALEY DAVID A                   17\n",
       "SCRIMSHAW MATTHEW                17\n",
       "CHRISTODOULOU DIOMEDES           16\n",
       "CLINE KENNETH W                  16\n",
       "GILLIS JOHN                      16\n",
       "SAVAGE FRANK                     16\n",
       "WAKEHAM JOHN                     16\n",
       "CHAN RONNIE                      15\n",
       "MEYER JEROME J                   15\n",
       "BLAKE JR. NORMAN P               15\n",
       "PEREIRA PAULO V. FERRAZ          15\n",
       "FUGH JOHN L                      15\n",
       "MENDELSOHN JOHN                  15\n",
       "LOWRY CHARLES P                  15\n",
       "GATHMANN WILLIAM D               15\n",
       "YEAP SOON                        15\n",
       "URQUHART JOHN A                  15\n",
       "WINOKUR JR. HERBERT S            15\n",
       "LEMAISTRE CHARLES                14\n",
       "BADUM JAMES P                    14\n",
       "NOLES JAMES L                    14\n",
       "DUNCAN JOHN H                    14\n",
       "PRENTICE JAMES                   14\n",
       "GRAY RODNEY                      14\n",
       "WALTERS GARETH W                 14\n",
       "                                 ..\n",
       "MCMAHON JEFFREY                   5\n",
       "THORN TERENCE H                   5\n",
       "MCCONNELL MICHAEL S               5\n",
       "MCCLELLAN GEORGE                  5\n",
       "TILNEY ELIZABETH A                5\n",
       "LAVORATO JOHN J                   5\n",
       "KOENIG MARK E                     5\n",
       "KEAN STEVEN J                     5\n",
       "TOTAL                             5\n",
       "WALLS JR ROBERT H                 5\n",
       "GLISAN JR BEN F                   5\n",
       "GARLAND C KEVIN                   5\n",
       "FITZGERALD JAY L                  5\n",
       "WHALLEY LAWRENCE G                5\n",
       "FALLON JAMES B                    5\n",
       "WASAFF GEORGE                     4\n",
       "BELDEN TIMOTHY N                  4\n",
       "SHARP VICTORIA T                  4\n",
       "MULLER MARK S                     4\n",
       "RIEKER PAULA H                    4\n",
       "RICE KENNETH D                    4\n",
       "OLSON CINDY K                     4\n",
       "BUY RICHARD B                     4\n",
       "HANNON KEVIN P                    4\n",
       "PIPER GREGORY F                   3\n",
       "DERRICK JR. JAMES V               3\n",
       "LAY KENNETH L                     2\n",
       "HAEDICKE MARK E                   2\n",
       "FREVERT MARK A                    2\n",
       "ALLEN PHILLIP K                   2\n",
       "Length: 146, dtype: int64"
      ]
     },
     "execution_count": 120,
     "metadata": {},
     "output_type": "execute_result"
    }
   ],
   "source": [
    "data_df.isnull().sum(axis =1).sort_values(ascending = False)"
   ]
  },
  {
   "cell_type": "code",
   "execution_count": 121,
   "metadata": {
    "collapsed": false
   },
   "outputs": [
    {
     "data": {
      "text/plain": [
       "salary                       NaN\n",
       "to_messages                  NaN\n",
       "deferral_payments            NaN\n",
       "total_payments               NaN\n",
       "exercised_stock_options      NaN\n",
       "bonus                        NaN\n",
       "restricted_stock             NaN\n",
       "shared_receipt_with_poi      NaN\n",
       "restricted_stock_deferred    NaN\n",
       "total_stock_value            NaN\n",
       "expenses                     NaN\n",
       "loan_advances                NaN\n",
       "from_messages                NaN\n",
       "other                        NaN\n",
       "from_this_person_to_poi      NaN\n",
       "poi                            0\n",
       "director_fees                NaN\n",
       "deferred_income              NaN\n",
       "long_term_incentive          NaN\n",
       "email_address                NaN\n",
       "from_poi_to_this_person      NaN\n",
       "Name: LOCKHART EUGENE E, dtype: object"
      ]
     },
     "execution_count": 121,
     "metadata": {},
     "output_type": "execute_result"
    }
   ],
   "source": [
    "data_df.loc['LOCKHART EUGENE E', :]"
   ]
  },
  {
   "cell_type": "markdown",
   "metadata": {},
   "source": [
    "The entry 'Eugene Lockhart' has only NAs, except for `poi` which has a meaningful value. This matches the content of the file `enron61702insiderpay.pdf`, which shows that all his values are zero. In a sense, this person is an outlier, however we have to decide whether we want to retain im in the data or not. In other words, do we believe that this is a correct observaton or an error, and if we think it is correct, it is usefull to keep an observation that has only zeros?\n",
    "My view on this is that the observation is probably correct (there is a number of other individuals with very few non-zero features) and might be useful to the model, so I will retain it."
   ]
  },
  {
   "cell_type": "markdown",
   "metadata": {},
   "source": [
    "In this dataset, missing values obviously mean zero. However, when working with financial data, one often has to convert values to their logarithm. With zeros and negative numbers, this leads to undefined values. We will therefore replace all NAs with a very small number (1.e-5)."
   ]
  },
  {
   "cell_type": "code",
   "execution_count": 122,
   "metadata": {
    "collapsed": false
   },
   "outputs": [
    {
     "data": {
      "text/html": [
       "<div>\n",
       "<style>\n",
       "    .dataframe thead tr:only-child th {\n",
       "        text-align: right;\n",
       "    }\n",
       "\n",
       "    .dataframe thead th {\n",
       "        text-align: left;\n",
       "    }\n",
       "\n",
       "    .dataframe tbody tr th {\n",
       "        vertical-align: top;\n",
       "    }\n",
       "</style>\n",
       "<table border=\"1\" class=\"dataframe\">\n",
       "  <thead>\n",
       "    <tr style=\"text-align: right;\">\n",
       "      <th></th>\n",
       "      <th>poi</th>\n",
       "      <th>salary</th>\n",
       "      <th>bonus</th>\n",
       "      <th>long_term_incentive</th>\n",
       "      <th>deferred_income</th>\n",
       "      <th>deferral_payments</th>\n",
       "      <th>loan_advances</th>\n",
       "      <th>other</th>\n",
       "      <th>expenses</th>\n",
       "      <th>director_fees</th>\n",
       "      <th>total_payments</th>\n",
       "      <th>exercised_stock_options</th>\n",
       "      <th>restricted_stock</th>\n",
       "      <th>restricted_stock_deferred</th>\n",
       "      <th>total_stock_value</th>\n",
       "      <th>from_messages</th>\n",
       "      <th>to_messages</th>\n",
       "      <th>from_poi_to_this_person</th>\n",
       "      <th>from_this_person_to_poi</th>\n",
       "      <th>shared_receipt_with_poi</th>\n",
       "    </tr>\n",
       "  </thead>\n",
       "  <tbody>\n",
       "    <tr>\n",
       "      <th>count</th>\n",
       "      <td>146.000000</td>\n",
       "      <td>1.460000e+02</td>\n",
       "      <td>1.460000e+02</td>\n",
       "      <td>1.460000e+02</td>\n",
       "      <td>1.460000e+02</td>\n",
       "      <td>1.460000e+02</td>\n",
       "      <td>1.460000e+02</td>\n",
       "      <td>1.460000e+02</td>\n",
       "      <td>1.460000e+02</td>\n",
       "      <td>1.460000e+02</td>\n",
       "      <td>1.460000e+02</td>\n",
       "      <td>1.460000e+02</td>\n",
       "      <td>1.460000e+02</td>\n",
       "      <td>1.460000e+02</td>\n",
       "      <td>1.460000e+02</td>\n",
       "      <td>146.000000</td>\n",
       "      <td>146.000000</td>\n",
       "      <td>146.000000</td>\n",
       "      <td>146.000000</td>\n",
       "      <td>146.000000</td>\n",
       "    </tr>\n",
       "    <tr>\n",
       "      <th>mean</th>\n",
       "      <td>0.123288</td>\n",
       "      <td>3.658114e+05</td>\n",
       "      <td>1.333474e+06</td>\n",
       "      <td>6.646839e+05</td>\n",
       "      <td>-3.827622e+05</td>\n",
       "      <td>4.387965e+05</td>\n",
       "      <td>1.149658e+06</td>\n",
       "      <td>5.854318e+05</td>\n",
       "      <td>7.074827e+04</td>\n",
       "      <td>1.942249e+04</td>\n",
       "      <td>4.350622e+06</td>\n",
       "      <td>4.182736e+06</td>\n",
       "      <td>1.749257e+06</td>\n",
       "      <td>2.051637e+04</td>\n",
       "      <td>5.846018e+06</td>\n",
       "      <td>358.602744</td>\n",
       "      <td>1221.589045</td>\n",
       "      <td>38.226032</td>\n",
       "      <td>24.287675</td>\n",
       "      <td>692.986305</td>\n",
       "    </tr>\n",
       "    <tr>\n",
       "      <th>std</th>\n",
       "      <td>0.329899</td>\n",
       "      <td>2.203575e+06</td>\n",
       "      <td>8.094029e+06</td>\n",
       "      <td>4.046072e+06</td>\n",
       "      <td>2.378250e+06</td>\n",
       "      <td>2.741325e+06</td>\n",
       "      <td>9.649342e+06</td>\n",
       "      <td>3.682345e+06</td>\n",
       "      <td>4.327163e+05</td>\n",
       "      <td>1.190543e+05</td>\n",
       "      <td>2.693448e+07</td>\n",
       "      <td>2.607040e+07</td>\n",
       "      <td>1.089995e+07</td>\n",
       "      <td>1.439661e+06</td>\n",
       "      <td>3.624681e+07</td>\n",
       "      <td>1441.259867</td>\n",
       "      <td>2226.770635</td>\n",
       "      <td>73.901122</td>\n",
       "      <td>79.278205</td>\n",
       "      <td>1072.969489</td>\n",
       "    </tr>\n",
       "    <tr>\n",
       "      <th>min</th>\n",
       "      <td>0.000000</td>\n",
       "      <td>1.000000e-05</td>\n",
       "      <td>1.000000e-05</td>\n",
       "      <td>1.000000e-05</td>\n",
       "      <td>-2.799289e+07</td>\n",
       "      <td>-1.025000e+05</td>\n",
       "      <td>1.000000e-05</td>\n",
       "      <td>1.000000e-05</td>\n",
       "      <td>1.000000e-05</td>\n",
       "      <td>1.000000e-05</td>\n",
       "      <td>1.000000e-05</td>\n",
       "      <td>1.000000e-05</td>\n",
       "      <td>-2.604490e+06</td>\n",
       "      <td>-7.576788e+06</td>\n",
       "      <td>-4.409300e+04</td>\n",
       "      <td>0.000010</td>\n",
       "      <td>0.000010</td>\n",
       "      <td>0.000000</td>\n",
       "      <td>0.000000</td>\n",
       "      <td>0.000010</td>\n",
       "    </tr>\n",
       "    <tr>\n",
       "      <th>25%</th>\n",
       "      <td>0.000000</td>\n",
       "      <td>1.000000e-05</td>\n",
       "      <td>1.000000e-05</td>\n",
       "      <td>1.000000e-05</td>\n",
       "      <td>-3.792600e+04</td>\n",
       "      <td>1.000000e-05</td>\n",
       "      <td>1.000000e-05</td>\n",
       "      <td>1.000000e-05</td>\n",
       "      <td>1.000000e-05</td>\n",
       "      <td>1.000000e-05</td>\n",
       "      <td>9.394475e+04</td>\n",
       "      <td>1.000000e-05</td>\n",
       "      <td>8.115000e+03</td>\n",
       "      <td>1.000000e-05</td>\n",
       "      <td>2.288695e+05</td>\n",
       "      <td>0.000010</td>\n",
       "      <td>0.000010</td>\n",
       "      <td>0.000010</td>\n",
       "      <td>0.000010</td>\n",
       "      <td>0.000010</td>\n",
       "    </tr>\n",
       "    <tr>\n",
       "      <th>50%</th>\n",
       "      <td>0.000000</td>\n",
       "      <td>2.105960e+05</td>\n",
       "      <td>3.000000e+05</td>\n",
       "      <td>1.000000e-05</td>\n",
       "      <td>1.000000e-05</td>\n",
       "      <td>1.000000e-05</td>\n",
       "      <td>1.000000e-05</td>\n",
       "      <td>9.595000e+02</td>\n",
       "      <td>2.018200e+04</td>\n",
       "      <td>1.000000e-05</td>\n",
       "      <td>9.413595e+05</td>\n",
       "      <td>6.082935e+05</td>\n",
       "      <td>3.605280e+05</td>\n",
       "      <td>1.000000e-05</td>\n",
       "      <td>9.659550e+05</td>\n",
       "      <td>16.500000</td>\n",
       "      <td>289.000000</td>\n",
       "      <td>2.500000</td>\n",
       "      <td>0.000010</td>\n",
       "      <td>102.500000</td>\n",
       "    </tr>\n",
       "    <tr>\n",
       "      <th>75%</th>\n",
       "      <td>0.000000</td>\n",
       "      <td>2.708505e+05</td>\n",
       "      <td>8.000000e+05</td>\n",
       "      <td>3.750648e+05</td>\n",
       "      <td>1.000000e-05</td>\n",
       "      <td>9.684500e+03</td>\n",
       "      <td>1.000000e-05</td>\n",
       "      <td>1.506065e+05</td>\n",
       "      <td>5.374075e+04</td>\n",
       "      <td>1.000000e-05</td>\n",
       "      <td>1.968287e+06</td>\n",
       "      <td>1.714221e+06</td>\n",
       "      <td>8.145280e+05</td>\n",
       "      <td>1.000000e-05</td>\n",
       "      <td>2.319991e+06</td>\n",
       "      <td>51.250000</td>\n",
       "      <td>1585.750000</td>\n",
       "      <td>40.750000</td>\n",
       "      <td>13.750000</td>\n",
       "      <td>893.500000</td>\n",
       "    </tr>\n",
       "    <tr>\n",
       "      <th>max</th>\n",
       "      <td>1.000000</td>\n",
       "      <td>2.670423e+07</td>\n",
       "      <td>9.734362e+07</td>\n",
       "      <td>4.852193e+07</td>\n",
       "      <td>1.000000e-05</td>\n",
       "      <td>3.208340e+07</td>\n",
       "      <td>8.392500e+07</td>\n",
       "      <td>4.266759e+07</td>\n",
       "      <td>5.235198e+06</td>\n",
       "      <td>1.398517e+06</td>\n",
       "      <td>3.098866e+08</td>\n",
       "      <td>3.117640e+08</td>\n",
       "      <td>1.303223e+08</td>\n",
       "      <td>1.545629e+07</td>\n",
       "      <td>4.345095e+08</td>\n",
       "      <td>14368.000000</td>\n",
       "      <td>15149.000000</td>\n",
       "      <td>528.000000</td>\n",
       "      <td>609.000000</td>\n",
       "      <td>5521.000000</td>\n",
       "    </tr>\n",
       "  </tbody>\n",
       "</table>\n",
       "</div>"
      ],
      "text/plain": [
       "              poi        salary         bonus  long_term_incentive  \\\n",
       "count  146.000000  1.460000e+02  1.460000e+02         1.460000e+02   \n",
       "mean     0.123288  3.658114e+05  1.333474e+06         6.646839e+05   \n",
       "std      0.329899  2.203575e+06  8.094029e+06         4.046072e+06   \n",
       "min      0.000000  1.000000e-05  1.000000e-05         1.000000e-05   \n",
       "25%      0.000000  1.000000e-05  1.000000e-05         1.000000e-05   \n",
       "50%      0.000000  2.105960e+05  3.000000e+05         1.000000e-05   \n",
       "75%      0.000000  2.708505e+05  8.000000e+05         3.750648e+05   \n",
       "max      1.000000  2.670423e+07  9.734362e+07         4.852193e+07   \n",
       "\n",
       "       deferred_income  deferral_payments  loan_advances         other  \\\n",
       "count     1.460000e+02       1.460000e+02   1.460000e+02  1.460000e+02   \n",
       "mean     -3.827622e+05       4.387965e+05   1.149658e+06  5.854318e+05   \n",
       "std       2.378250e+06       2.741325e+06   9.649342e+06  3.682345e+06   \n",
       "min      -2.799289e+07      -1.025000e+05   1.000000e-05  1.000000e-05   \n",
       "25%      -3.792600e+04       1.000000e-05   1.000000e-05  1.000000e-05   \n",
       "50%       1.000000e-05       1.000000e-05   1.000000e-05  9.595000e+02   \n",
       "75%       1.000000e-05       9.684500e+03   1.000000e-05  1.506065e+05   \n",
       "max       1.000000e-05       3.208340e+07   8.392500e+07  4.266759e+07   \n",
       "\n",
       "           expenses  director_fees  total_payments  exercised_stock_options  \\\n",
       "count  1.460000e+02   1.460000e+02    1.460000e+02             1.460000e+02   \n",
       "mean   7.074827e+04   1.942249e+04    4.350622e+06             4.182736e+06   \n",
       "std    4.327163e+05   1.190543e+05    2.693448e+07             2.607040e+07   \n",
       "min    1.000000e-05   1.000000e-05    1.000000e-05             1.000000e-05   \n",
       "25%    1.000000e-05   1.000000e-05    9.394475e+04             1.000000e-05   \n",
       "50%    2.018200e+04   1.000000e-05    9.413595e+05             6.082935e+05   \n",
       "75%    5.374075e+04   1.000000e-05    1.968287e+06             1.714221e+06   \n",
       "max    5.235198e+06   1.398517e+06    3.098866e+08             3.117640e+08   \n",
       "\n",
       "       restricted_stock  restricted_stock_deferred  total_stock_value  \\\n",
       "count      1.460000e+02               1.460000e+02       1.460000e+02   \n",
       "mean       1.749257e+06               2.051637e+04       5.846018e+06   \n",
       "std        1.089995e+07               1.439661e+06       3.624681e+07   \n",
       "min       -2.604490e+06              -7.576788e+06      -4.409300e+04   \n",
       "25%        8.115000e+03               1.000000e-05       2.288695e+05   \n",
       "50%        3.605280e+05               1.000000e-05       9.659550e+05   \n",
       "75%        8.145280e+05               1.000000e-05       2.319991e+06   \n",
       "max        1.303223e+08               1.545629e+07       4.345095e+08   \n",
       "\n",
       "       from_messages   to_messages  from_poi_to_this_person  \\\n",
       "count     146.000000    146.000000               146.000000   \n",
       "mean      358.602744   1221.589045                38.226032   \n",
       "std      1441.259867   2226.770635                73.901122   \n",
       "min         0.000010      0.000010                 0.000000   \n",
       "25%         0.000010      0.000010                 0.000010   \n",
       "50%        16.500000    289.000000                 2.500000   \n",
       "75%        51.250000   1585.750000                40.750000   \n",
       "max     14368.000000  15149.000000               528.000000   \n",
       "\n",
       "       from_this_person_to_poi  shared_receipt_with_poi  \n",
       "count               146.000000               146.000000  \n",
       "mean                 24.287675               692.986305  \n",
       "std                  79.278205              1072.969489  \n",
       "min                   0.000000                 0.000010  \n",
       "25%                   0.000010                 0.000010  \n",
       "50%                   0.000010               102.500000  \n",
       "75%                  13.750000               893.500000  \n",
       "max                 609.000000              5521.000000  "
      ]
     },
     "execution_count": 122,
     "metadata": {},
     "output_type": "execute_result"
    }
   ],
   "source": [
    "data_df.fillna(1.e-5, inplace = True)\n",
    "data_df = data_df[features_list]\n",
    "data_df.describe()"
   ]
  },
  {
   "cell_type": "markdown",
   "metadata": {},
   "source": [
    "`restricted_stock_deferred` seems to have negative values only according to `enron61702insiderpay.pdf`, however its maximum value is $15,456,290. Let's investigate:"
   ]
  },
  {
   "cell_type": "code",
   "execution_count": 123,
   "metadata": {
    "collapsed": false
   },
   "outputs": [
    {
     "data": {
      "text/html": [
       "<div>\n",
       "<style>\n",
       "    .dataframe thead tr:only-child th {\n",
       "        text-align: right;\n",
       "    }\n",
       "\n",
       "    .dataframe thead th {\n",
       "        text-align: left;\n",
       "    }\n",
       "\n",
       "    .dataframe tbody tr th {\n",
       "        vertical-align: top;\n",
       "    }\n",
       "</style>\n",
       "<table border=\"1\" class=\"dataframe\">\n",
       "  <thead>\n",
       "    <tr style=\"text-align: right;\">\n",
       "      <th></th>\n",
       "      <th>poi</th>\n",
       "      <th>salary</th>\n",
       "      <th>bonus</th>\n",
       "      <th>long_term_incentive</th>\n",
       "      <th>deferred_income</th>\n",
       "      <th>deferral_payments</th>\n",
       "      <th>loan_advances</th>\n",
       "      <th>other</th>\n",
       "      <th>expenses</th>\n",
       "      <th>director_fees</th>\n",
       "      <th>total_payments</th>\n",
       "      <th>exercised_stock_options</th>\n",
       "      <th>restricted_stock</th>\n",
       "      <th>restricted_stock_deferred</th>\n",
       "      <th>total_stock_value</th>\n",
       "      <th>from_messages</th>\n",
       "      <th>to_messages</th>\n",
       "      <th>from_poi_to_this_person</th>\n",
       "      <th>from_this_person_to_poi</th>\n",
       "      <th>shared_receipt_with_poi</th>\n",
       "    </tr>\n",
       "  </thead>\n",
       "  <tbody>\n",
       "    <tr>\n",
       "      <th>BHATNAGAR SANJAY</th>\n",
       "      <td>0.0</td>\n",
       "      <td>0.00001</td>\n",
       "      <td>0.00001</td>\n",
       "      <td>0.00001</td>\n",
       "      <td>0.00001</td>\n",
       "      <td>0.00001</td>\n",
       "      <td>0.00001</td>\n",
       "      <td>137864.0</td>\n",
       "      <td>0.00001</td>\n",
       "      <td>137864.0</td>\n",
       "      <td>15456290.0</td>\n",
       "      <td>2604490.0</td>\n",
       "      <td>-2604490.0</td>\n",
       "      <td>15456290.0</td>\n",
       "      <td>0.00001</td>\n",
       "      <td>29.0</td>\n",
       "      <td>523.0</td>\n",
       "      <td>0.0</td>\n",
       "      <td>1.0</td>\n",
       "      <td>463.0</td>\n",
       "    </tr>\n",
       "  </tbody>\n",
       "</table>\n",
       "</div>"
      ],
      "text/plain": [
       "                  poi   salary    bonus  long_term_incentive  deferred_income  \\\n",
       "BHATNAGAR SANJAY  0.0  0.00001  0.00001              0.00001          0.00001   \n",
       "\n",
       "                  deferral_payments  loan_advances     other  expenses  \\\n",
       "BHATNAGAR SANJAY            0.00001        0.00001  137864.0   0.00001   \n",
       "\n",
       "                  director_fees  total_payments  exercised_stock_options  \\\n",
       "BHATNAGAR SANJAY       137864.0      15456290.0                2604490.0   \n",
       "\n",
       "                  restricted_stock  restricted_stock_deferred  \\\n",
       "BHATNAGAR SANJAY        -2604490.0                 15456290.0   \n",
       "\n",
       "                  total_stock_value  from_messages  to_messages  \\\n",
       "BHATNAGAR SANJAY            0.00001           29.0        523.0   \n",
       "\n",
       "                  from_poi_to_this_person  from_this_person_to_poi  \\\n",
       "BHATNAGAR SANJAY                      0.0                      1.0   \n",
       "\n",
       "                  shared_receipt_with_poi  \n",
       "BHATNAGAR SANJAY                    463.0  "
      ]
     },
     "execution_count": 123,
     "metadata": {},
     "output_type": "execute_result"
    }
   ],
   "source": [
    "data_df[data_df['restricted_stock_deferred'] == np.max(data_df['restricted_stock_deferred'])]"
   ]
  },
  {
   "cell_type": "markdown",
   "metadata": {},
   "source": [
    "When comparing these values with the pdf file, I realize that the data is shifted to the left by one column, hence the errors. Presumably, there might be other such occurences so I now need to go through the data and manually fix these."
   ]
  },
  {
   "cell_type": "markdown",
   "metadata": {},
   "source": [
    "* **Data cleaning:**\n",
    "An easy way to detect discrepancies such as described above is to check that totals (payments and stock value) are equal to the sum of their components."
   ]
  },
  {
   "cell_type": "code",
   "execution_count": 124,
   "metadata": {
    "collapsed": false,
    "scrolled": true
   },
   "outputs": [
    {
     "data": {
      "text/html": [
       "<div>\n",
       "<style>\n",
       "    .dataframe thead tr:only-child th {\n",
       "        text-align: right;\n",
       "    }\n",
       "\n",
       "    .dataframe thead th {\n",
       "        text-align: left;\n",
       "    }\n",
       "\n",
       "    .dataframe tbody tr th {\n",
       "        vertical-align: top;\n",
       "    }\n",
       "</style>\n",
       "<table border=\"1\" class=\"dataframe\">\n",
       "  <thead>\n",
       "    <tr style=\"text-align: right;\">\n",
       "      <th></th>\n",
       "      <th>poi</th>\n",
       "      <th>salary</th>\n",
       "      <th>bonus</th>\n",
       "      <th>long_term_incentive</th>\n",
       "      <th>deferred_income</th>\n",
       "      <th>deferral_payments</th>\n",
       "      <th>loan_advances</th>\n",
       "      <th>other</th>\n",
       "      <th>expenses</th>\n",
       "      <th>director_fees</th>\n",
       "      <th>total_payments</th>\n",
       "      <th>exercised_stock_options</th>\n",
       "      <th>restricted_stock</th>\n",
       "      <th>restricted_stock_deferred</th>\n",
       "      <th>total_stock_value</th>\n",
       "      <th>from_messages</th>\n",
       "      <th>to_messages</th>\n",
       "      <th>from_poi_to_this_person</th>\n",
       "      <th>from_this_person_to_poi</th>\n",
       "      <th>shared_receipt_with_poi</th>\n",
       "    </tr>\n",
       "  </thead>\n",
       "  <tbody>\n",
       "    <tr>\n",
       "      <th>BELFER ROBERT</th>\n",
       "      <td>0.0</td>\n",
       "      <td>0.00001</td>\n",
       "      <td>0.00001</td>\n",
       "      <td>0.00001</td>\n",
       "      <td>0.00001</td>\n",
       "      <td>-102500.00000</td>\n",
       "      <td>0.00001</td>\n",
       "      <td>0.00001</td>\n",
       "      <td>0.00001</td>\n",
       "      <td>3285.0</td>\n",
       "      <td>102500.0</td>\n",
       "      <td>3285.0</td>\n",
       "      <td>1.000000e-05</td>\n",
       "      <td>44093.0</td>\n",
       "      <td>-44093.00000</td>\n",
       "      <td>0.00001</td>\n",
       "      <td>0.00001</td>\n",
       "      <td>0.00001</td>\n",
       "      <td>0.00001</td>\n",
       "      <td>0.00001</td>\n",
       "    </tr>\n",
       "    <tr>\n",
       "      <th>BHATNAGAR SANJAY</th>\n",
       "      <td>0.0</td>\n",
       "      <td>0.00001</td>\n",
       "      <td>0.00001</td>\n",
       "      <td>0.00001</td>\n",
       "      <td>0.00001</td>\n",
       "      <td>0.00001</td>\n",
       "      <td>0.00001</td>\n",
       "      <td>137864.00000</td>\n",
       "      <td>0.00001</td>\n",
       "      <td>137864.0</td>\n",
       "      <td>15456290.0</td>\n",
       "      <td>2604490.0</td>\n",
       "      <td>-2.604490e+06</td>\n",
       "      <td>15456290.0</td>\n",
       "      <td>0.00001</td>\n",
       "      <td>29.00000</td>\n",
       "      <td>523.00000</td>\n",
       "      <td>0.00000</td>\n",
       "      <td>1.00000</td>\n",
       "      <td>463.00000</td>\n",
       "    </tr>\n",
       "  </tbody>\n",
       "</table>\n",
       "</div>"
      ],
      "text/plain": [
       "                  poi   salary    bonus  long_term_incentive  deferred_income  \\\n",
       "BELFER ROBERT     0.0  0.00001  0.00001              0.00001          0.00001   \n",
       "BHATNAGAR SANJAY  0.0  0.00001  0.00001              0.00001          0.00001   \n",
       "\n",
       "                  deferral_payments  loan_advances         other  expenses  \\\n",
       "BELFER ROBERT         -102500.00000        0.00001       0.00001   0.00001   \n",
       "BHATNAGAR SANJAY            0.00001        0.00001  137864.00000   0.00001   \n",
       "\n",
       "                  director_fees  total_payments  exercised_stock_options  \\\n",
       "BELFER ROBERT            3285.0        102500.0                   3285.0   \n",
       "BHATNAGAR SANJAY       137864.0      15456290.0                2604490.0   \n",
       "\n",
       "                  restricted_stock  restricted_stock_deferred  \\\n",
       "BELFER ROBERT         1.000000e-05                    44093.0   \n",
       "BHATNAGAR SANJAY     -2.604490e+06                 15456290.0   \n",
       "\n",
       "                  total_stock_value  from_messages  to_messages  \\\n",
       "BELFER ROBERT          -44093.00000        0.00001      0.00001   \n",
       "BHATNAGAR SANJAY            0.00001       29.00000    523.00000   \n",
       "\n",
       "                  from_poi_to_this_person  from_this_person_to_poi  \\\n",
       "BELFER ROBERT                     0.00001                  0.00001   \n",
       "BHATNAGAR SANJAY                  0.00000                  1.00000   \n",
       "\n",
       "                  shared_receipt_with_poi  \n",
       "BELFER ROBERT                     0.00001  \n",
       "BHATNAGAR SANJAY                463.00000  "
      ]
     },
     "execution_count": 124,
     "metadata": {},
     "output_type": "execute_result"
    }
   ],
   "source": [
    "data_df[(np.floor(data_df['salary'] + data_df['bonus'] + data_df['long_term_incentive'] + data_df['deferred_income'] + \\\n",
    "       data_df['deferral_payments'] + data_df['loan_advances'] + data_df['other'] + data_df['expenses'] + \\\n",
    "       data_df['director_fees']) != np.floor(data_df['total_payments'])) | \\\n",
    "       (np.floor(data_df['exercised_stock_options'] + data_df['restricted_stock'] + \\\n",
    "        data_df['restricted_stock_deferred']) != np.floor(data_df['total_stock_value']))]"
   ]
  },
  {
   "cell_type": "markdown",
   "metadata": {},
   "source": [
    "There are only two problematic observations. Let's correct them manually:"
   ]
  },
  {
   "cell_type": "code",
   "execution_count": 125,
   "metadata": {
    "collapsed": false
   },
   "outputs": [
    {
     "name": "stderr",
     "output_type": "stream",
     "text": [
      "/home/lucfrachon/anaconda3/envs/py27/lib/python2.7/site-packages/ipykernel/__main__.py:3: DeprecationWarning: \n",
      ".ix is deprecated. Please use\n",
      ".loc for label based indexing or\n",
      ".iloc for positional indexing\n",
      "\n",
      "See the documentation here:\n",
      "http://pandas.pydata.org/pandas-docs/stable/indexing.html#deprecate_ix\n",
      "  app.launch_new_instance()\n"
     ]
    },
    {
     "data": {
      "text/html": [
       "<div>\n",
       "<style>\n",
       "    .dataframe thead tr:only-child th {\n",
       "        text-align: right;\n",
       "    }\n",
       "\n",
       "    .dataframe thead th {\n",
       "        text-align: left;\n",
       "    }\n",
       "\n",
       "    .dataframe tbody tr th {\n",
       "        vertical-align: top;\n",
       "    }\n",
       "</style>\n",
       "<table border=\"1\" class=\"dataframe\">\n",
       "  <thead>\n",
       "    <tr style=\"text-align: right;\">\n",
       "      <th></th>\n",
       "      <th>poi</th>\n",
       "      <th>salary</th>\n",
       "      <th>bonus</th>\n",
       "      <th>long_term_incentive</th>\n",
       "      <th>deferred_income</th>\n",
       "      <th>deferral_payments</th>\n",
       "      <th>loan_advances</th>\n",
       "      <th>other</th>\n",
       "      <th>expenses</th>\n",
       "      <th>director_fees</th>\n",
       "      <th>total_payments</th>\n",
       "      <th>exercised_stock_options</th>\n",
       "      <th>restricted_stock</th>\n",
       "      <th>restricted_stock_deferred</th>\n",
       "      <th>total_stock_value</th>\n",
       "      <th>from_messages</th>\n",
       "      <th>to_messages</th>\n",
       "      <th>from_poi_to_this_person</th>\n",
       "      <th>from_this_person_to_poi</th>\n",
       "      <th>shared_receipt_with_poi</th>\n",
       "    </tr>\n",
       "  </thead>\n",
       "  <tbody>\n",
       "    <tr>\n",
       "      <th>BELFER ROBERT</th>\n",
       "      <td>0.0</td>\n",
       "      <td>0.00001</td>\n",
       "      <td>0.00001</td>\n",
       "      <td>0.00001</td>\n",
       "      <td>-102500.00000</td>\n",
       "      <td>0.00001</td>\n",
       "      <td>0.00001</td>\n",
       "      <td>0.00001</td>\n",
       "      <td>3285.0</td>\n",
       "      <td>102500.00000</td>\n",
       "      <td>3285.0</td>\n",
       "      <td>1.000000e-05</td>\n",
       "      <td>44093.0</td>\n",
       "      <td>-44093.0</td>\n",
       "      <td>1.000000e-05</td>\n",
       "      <td>0.00001</td>\n",
       "      <td>0.00001</td>\n",
       "      <td>0.00001</td>\n",
       "      <td>0.00001</td>\n",
       "      <td>0.00001</td>\n",
       "    </tr>\n",
       "    <tr>\n",
       "      <th>BHATNAGAR SANJAY</th>\n",
       "      <td>0.0</td>\n",
       "      <td>0.00001</td>\n",
       "      <td>0.00001</td>\n",
       "      <td>0.00001</td>\n",
       "      <td>0.00001</td>\n",
       "      <td>0.00001</td>\n",
       "      <td>0.00001</td>\n",
       "      <td>0.00001</td>\n",
       "      <td>137864.0</td>\n",
       "      <td>0.00001</td>\n",
       "      <td>137864.0</td>\n",
       "      <td>1.545629e+07</td>\n",
       "      <td>2604490.0</td>\n",
       "      <td>-2604490.0</td>\n",
       "      <td>1.545629e+07</td>\n",
       "      <td>29.00000</td>\n",
       "      <td>523.00000</td>\n",
       "      <td>0.00000</td>\n",
       "      <td>1.00000</td>\n",
       "      <td>463.00000</td>\n",
       "    </tr>\n",
       "  </tbody>\n",
       "</table>\n",
       "</div>"
      ],
      "text/plain": [
       "                  poi   salary    bonus  long_term_incentive  deferred_income  \\\n",
       "BELFER ROBERT     0.0  0.00001  0.00001              0.00001    -102500.00000   \n",
       "BHATNAGAR SANJAY  0.0  0.00001  0.00001              0.00001          0.00001   \n",
       "\n",
       "                  deferral_payments  loan_advances    other  expenses  \\\n",
       "BELFER ROBERT               0.00001        0.00001  0.00001    3285.0   \n",
       "BHATNAGAR SANJAY            0.00001        0.00001  0.00001  137864.0   \n",
       "\n",
       "                  director_fees  total_payments  exercised_stock_options  \\\n",
       "BELFER ROBERT      102500.00000          3285.0             1.000000e-05   \n",
       "BHATNAGAR SANJAY        0.00001        137864.0             1.545629e+07   \n",
       "\n",
       "                  restricted_stock  restricted_stock_deferred  \\\n",
       "BELFER ROBERT              44093.0                   -44093.0   \n",
       "BHATNAGAR SANJAY         2604490.0                 -2604490.0   \n",
       "\n",
       "                  total_stock_value  from_messages  to_messages  \\\n",
       "BELFER ROBERT          1.000000e-05        0.00001      0.00001   \n",
       "BHATNAGAR SANJAY       1.545629e+07       29.00000    523.00000   \n",
       "\n",
       "                  from_poi_to_this_person  from_this_person_to_poi  \\\n",
       "BELFER ROBERT                     0.00001                  0.00001   \n",
       "BHATNAGAR SANJAY                  0.00000                  1.00000   \n",
       "\n",
       "                  shared_receipt_with_poi  \n",
       "BELFER ROBERT                     0.00001  \n",
       "BHATNAGAR SANJAY                463.00000  "
      ]
     },
     "execution_count": 125,
     "metadata": {},
     "output_type": "execute_result"
    }
   ],
   "source": [
    "# Robert Belfer:\n",
    "for j in xrange(1, 14):\n",
    "    data_df.ix['BELFER ROBERT', j] = data_df.ix['BELFER ROBERT', j + 1]\n",
    "data_df.ix['BELFER ROBERT', 14] = 1.e-5\n",
    "\n",
    "# Sanjay Bhatnagar:\n",
    "for j in xrange(14, 2, -1):\n",
    "    data_df.ix['BHATNAGAR SANJAY', j] = data_df.ix['BHATNAGAR SANJAY', j - 1]\n",
    "data_df.ix['BHATNAGAR SANJAY', 1] = 1.e-5\n",
    "    \n",
    "data_df.loc[['BELFER ROBERT', 'BHATNAGAR SANJAY']]"
   ]
  },
  {
   "cell_type": "markdown",
   "metadata": {},
   "source": [
    "This confirms we successfully cleaned up the data."
   ]
  },
  {
   "cell_type": "markdown",
   "metadata": {},
   "source": [
    "- Look for outliers:"
   ]
  },
  {
   "cell_type": "markdown",
   "metadata": {},
   "source": [
    "In our list of DataFrame indexes shown above, we can see a name that is obviously not a real person: 'THE TRAVEL AGENCY IN THE PARK'. Some research show that this is a travel agency that was contracted to Enron while related to the wife of one of Enron's executives. There might be conflict of interest here, but we since we are investigating persons and not suppliers, I chose to drop this observation."
   ]
  },
  {
   "cell_type": "code",
   "execution_count": 126,
   "metadata": {
    "collapsed": true
   },
   "outputs": [],
   "source": [
    "data_df = data_df.drop(['THE TRAVEL AGENCY IN THE PARK'])"
   ]
  },
  {
   "cell_type": "markdown",
   "metadata": {},
   "source": [
    "I will now make a scatter plot of the first two variables:"
   ]
  },
  {
   "cell_type": "code",
   "execution_count": 127,
   "metadata": {
    "collapsed": false
   },
   "outputs": [
    {
     "data": {
      "image/png": "[encoded data removed]",
      "text/plain": [
       "<matplotlib.figure.Figure at 0x7ffa31033810>"
      ]
     },
     "metadata": {},
     "output_type": "display_data"
    }
   ],
   "source": [
    "sp = data_df.plot.scatter(x = 'salary', y = 'deferral_payments', c = 'poi', edgecolors = 'Blue', \n",
    "                          s = 50)"
   ]
  },
  {
   "cell_type": "markdown",
   "metadata": {},
   "source": [
    "There is an observation that immediately stands out. It corresponds to the highest values of both `salary` and `deferral_payments`. When checking the numbers against the document named `enron61702insiderpay.pdf`, we see that these values correspond to the 'TOTAL' line and are therefore an artefact of the data collection process rather than an actual observation."
   ]
  },
  {
   "cell_type": "code",
   "execution_count": 128,
   "metadata": {
    "collapsed": false
   },
   "outputs": [
    {
     "data": {
      "text/html": [
       "<div>\n",
       "<style>\n",
       "    .dataframe thead tr:only-child th {\n",
       "        text-align: right;\n",
       "    }\n",
       "\n",
       "    .dataframe thead th {\n",
       "        text-align: left;\n",
       "    }\n",
       "\n",
       "    .dataframe tbody tr th {\n",
       "        vertical-align: top;\n",
       "    }\n",
       "</style>\n",
       "<table border=\"1\" class=\"dataframe\">\n",
       "  <thead>\n",
       "    <tr style=\"text-align: right;\">\n",
       "      <th></th>\n",
       "      <th>poi</th>\n",
       "      <th>salary</th>\n",
       "      <th>bonus</th>\n",
       "      <th>long_term_incentive</th>\n",
       "      <th>deferred_income</th>\n",
       "      <th>deferral_payments</th>\n",
       "      <th>loan_advances</th>\n",
       "      <th>other</th>\n",
       "      <th>expenses</th>\n",
       "      <th>director_fees</th>\n",
       "      <th>total_payments</th>\n",
       "      <th>exercised_stock_options</th>\n",
       "      <th>restricted_stock</th>\n",
       "      <th>restricted_stock_deferred</th>\n",
       "      <th>total_stock_value</th>\n",
       "      <th>from_messages</th>\n",
       "      <th>to_messages</th>\n",
       "      <th>from_poi_to_this_person</th>\n",
       "      <th>from_this_person_to_poi</th>\n",
       "      <th>shared_receipt_with_poi</th>\n",
       "    </tr>\n",
       "  </thead>\n",
       "  <tbody>\n",
       "    <tr>\n",
       "      <th>count</th>\n",
       "      <td>144.000000</td>\n",
       "      <td>1.440000e+02</td>\n",
       "      <td>1.440000e+02</td>\n",
       "      <td>1.440000e+02</td>\n",
       "      <td>1.440000e+02</td>\n",
       "      <td>1.440000e+02</td>\n",
       "      <td>1.440000e+02</td>\n",
       "      <td>1.440000e+02</td>\n",
       "      <td>144.000000</td>\n",
       "      <td>144.000000</td>\n",
       "      <td>1.440000e+02</td>\n",
       "      <td>1.440000e+02</td>\n",
       "      <td>1.440000e+02</td>\n",
       "      <td>1.440000e+02</td>\n",
       "      <td>1.440000e+02</td>\n",
       "      <td>144.000000</td>\n",
       "      <td>144.000000</td>\n",
       "      <td>144.000000</td>\n",
       "      <td>144.000000</td>\n",
       "      <td>144.000000</td>\n",
       "    </tr>\n",
       "    <tr>\n",
       "      <th>mean</th>\n",
       "      <td>0.125000</td>\n",
       "      <td>1.854460e+05</td>\n",
       "      <td>6.759974e+05</td>\n",
       "      <td>3.369578e+05</td>\n",
       "      <td>-1.943951e+05</td>\n",
       "      <td>2.228014e+05</td>\n",
       "      <td>5.828125e+05</td>\n",
       "      <td>2.937881e+05</td>\n",
       "      <td>36355.541670</td>\n",
       "      <td>9711.923620</td>\n",
       "      <td>2.149476e+06</td>\n",
       "      <td>2.165028e+06</td>\n",
       "      <td>9.050160e+05</td>\n",
       "      <td>-5.261658e+04</td>\n",
       "      <td>3.017427e+06</td>\n",
       "      <td>363.583337</td>\n",
       "      <td>1238.555560</td>\n",
       "      <td>38.756948</td>\n",
       "      <td>24.625004</td>\n",
       "      <td>702.611115</td>\n",
       "    </tr>\n",
       "    <tr>\n",
       "      <th>std</th>\n",
       "      <td>0.331873</td>\n",
       "      <td>1.970421e+05</td>\n",
       "      <td>1.233155e+06</td>\n",
       "      <td>6.871826e+05</td>\n",
       "      <td>6.058422e+05</td>\n",
       "      <td>7.538411e+05</td>\n",
       "      <td>6.794472e+06</td>\n",
       "      <td>1.131517e+06</td>\n",
       "      <td>45990.417222</td>\n",
       "      <td>30422.534937</td>\n",
       "      <td>8.779364e+06</td>\n",
       "      <td>4.923320e+06</td>\n",
       "      <td>2.000357e+06</td>\n",
       "      <td>2.731835e+05</td>\n",
       "      <td>6.271528e+06</td>\n",
       "      <td>1450.675238</td>\n",
       "      <td>2237.564813</td>\n",
       "      <td>74.276767</td>\n",
       "      <td>79.778264</td>\n",
       "      <td>1077.290734</td>\n",
       "    </tr>\n",
       "    <tr>\n",
       "      <th>min</th>\n",
       "      <td>0.000000</td>\n",
       "      <td>1.000000e-05</td>\n",
       "      <td>1.000000e-05</td>\n",
       "      <td>1.000000e-05</td>\n",
       "      <td>-3.504386e+06</td>\n",
       "      <td>1.000000e-05</td>\n",
       "      <td>1.000000e-05</td>\n",
       "      <td>1.000000e-05</td>\n",
       "      <td>0.000010</td>\n",
       "      <td>0.000010</td>\n",
       "      <td>1.000000e-05</td>\n",
       "      <td>1.000000e-05</td>\n",
       "      <td>1.000000e-05</td>\n",
       "      <td>-2.604490e+06</td>\n",
       "      <td>1.000000e-05</td>\n",
       "      <td>0.000010</td>\n",
       "      <td>0.000010</td>\n",
       "      <td>0.000000</td>\n",
       "      <td>0.000000</td>\n",
       "      <td>0.000010</td>\n",
       "    </tr>\n",
       "    <tr>\n",
       "      <th>25%</th>\n",
       "      <td>0.000000</td>\n",
       "      <td>1.000000e-05</td>\n",
       "      <td>1.000000e-05</td>\n",
       "      <td>1.000000e-05</td>\n",
       "      <td>-3.907200e+04</td>\n",
       "      <td>1.000000e-05</td>\n",
       "      <td>1.000000e-05</td>\n",
       "      <td>1.000000e-05</td>\n",
       "      <td>0.000010</td>\n",
       "      <td>0.000010</td>\n",
       "      <td>8.747150e+04</td>\n",
       "      <td>1.000000e-05</td>\n",
       "      <td>4.409300e+04</td>\n",
       "      <td>1.000000e-05</td>\n",
       "      <td>2.563765e+05</td>\n",
       "      <td>0.000010</td>\n",
       "      <td>0.000010</td>\n",
       "      <td>0.000010</td>\n",
       "      <td>0.000010</td>\n",
       "      <td>0.000010</td>\n",
       "    </tr>\n",
       "    <tr>\n",
       "      <th>50%</th>\n",
       "      <td>0.000000</td>\n",
       "      <td>2.105960e+05</td>\n",
       "      <td>3.000000e+05</td>\n",
       "      <td>1.000000e-05</td>\n",
       "      <td>1.000000e-05</td>\n",
       "      <td>1.000000e-05</td>\n",
       "      <td>1.000000e-05</td>\n",
       "      <td>8.825000e+02</td>\n",
       "      <td>21937.000000</td>\n",
       "      <td>0.000010</td>\n",
       "      <td>9.138250e+05</td>\n",
       "      <td>6.082935e+05</td>\n",
       "      <td>3.619780e+05</td>\n",
       "      <td>1.000000e-05</td>\n",
       "      <td>9.805345e+05</td>\n",
       "      <td>17.500000</td>\n",
       "      <td>347.500000</td>\n",
       "      <td>4.000000</td>\n",
       "      <td>0.000010</td>\n",
       "      <td>114.000000</td>\n",
       "    </tr>\n",
       "    <tr>\n",
       "      <th>75%</th>\n",
       "      <td>0.000000</td>\n",
       "      <td>2.696675e+05</td>\n",
       "      <td>8.000000e+05</td>\n",
       "      <td>3.745862e+05</td>\n",
       "      <td>1.000000e-05</td>\n",
       "      <td>8.535500e+03</td>\n",
       "      <td>1.000000e-05</td>\n",
       "      <td>1.485770e+05</td>\n",
       "      <td>54234.500000</td>\n",
       "      <td>0.000010</td>\n",
       "      <td>1.885158e+06</td>\n",
       "      <td>1.683580e+06</td>\n",
       "      <td>8.571030e+05</td>\n",
       "      <td>1.000000e-05</td>\n",
       "      <td>2.372703e+06</td>\n",
       "      <td>53.000000</td>\n",
       "      <td>1623.000000</td>\n",
       "      <td>41.250000</td>\n",
       "      <td>14.000000</td>\n",
       "      <td>933.750000</td>\n",
       "    </tr>\n",
       "    <tr>\n",
       "      <th>max</th>\n",
       "      <td>1.000000</td>\n",
       "      <td>1.111258e+06</td>\n",
       "      <td>8.000000e+06</td>\n",
       "      <td>5.145434e+06</td>\n",
       "      <td>1.000000e-05</td>\n",
       "      <td>6.426990e+06</td>\n",
       "      <td>8.152500e+07</td>\n",
       "      <td>1.035973e+07</td>\n",
       "      <td>228763.000000</td>\n",
       "      <td>125034.000000</td>\n",
       "      <td>1.035598e+08</td>\n",
       "      <td>3.434838e+07</td>\n",
       "      <td>1.476169e+07</td>\n",
       "      <td>1.000000e-05</td>\n",
       "      <td>4.911008e+07</td>\n",
       "      <td>14368.000000</td>\n",
       "      <td>15149.000000</td>\n",
       "      <td>528.000000</td>\n",
       "      <td>609.000000</td>\n",
       "      <td>5521.000000</td>\n",
       "    </tr>\n",
       "  </tbody>\n",
       "</table>\n",
       "</div>"
      ],
      "text/plain": [
       "              poi        salary         bonus  long_term_incentive  \\\n",
       "count  144.000000  1.440000e+02  1.440000e+02         1.440000e+02   \n",
       "mean     0.125000  1.854460e+05  6.759974e+05         3.369578e+05   \n",
       "std      0.331873  1.970421e+05  1.233155e+06         6.871826e+05   \n",
       "min      0.000000  1.000000e-05  1.000000e-05         1.000000e-05   \n",
       "25%      0.000000  1.000000e-05  1.000000e-05         1.000000e-05   \n",
       "50%      0.000000  2.105960e+05  3.000000e+05         1.000000e-05   \n",
       "75%      0.000000  2.696675e+05  8.000000e+05         3.745862e+05   \n",
       "max      1.000000  1.111258e+06  8.000000e+06         5.145434e+06   \n",
       "\n",
       "       deferred_income  deferral_payments  loan_advances         other  \\\n",
       "count     1.440000e+02       1.440000e+02   1.440000e+02  1.440000e+02   \n",
       "mean     -1.943951e+05       2.228014e+05   5.828125e+05  2.937881e+05   \n",
       "std       6.058422e+05       7.538411e+05   6.794472e+06  1.131517e+06   \n",
       "min      -3.504386e+06       1.000000e-05   1.000000e-05  1.000000e-05   \n",
       "25%      -3.907200e+04       1.000000e-05   1.000000e-05  1.000000e-05   \n",
       "50%       1.000000e-05       1.000000e-05   1.000000e-05  8.825000e+02   \n",
       "75%       1.000000e-05       8.535500e+03   1.000000e-05  1.485770e+05   \n",
       "max       1.000000e-05       6.426990e+06   8.152500e+07  1.035973e+07   \n",
       "\n",
       "            expenses  director_fees  total_payments  exercised_stock_options  \\\n",
       "count     144.000000     144.000000    1.440000e+02             1.440000e+02   \n",
       "mean    36355.541670    9711.923620    2.149476e+06             2.165028e+06   \n",
       "std     45990.417222   30422.534937    8.779364e+06             4.923320e+06   \n",
       "min         0.000010       0.000010    1.000000e-05             1.000000e-05   \n",
       "25%         0.000010       0.000010    8.747150e+04             1.000000e-05   \n",
       "50%     21937.000000       0.000010    9.138250e+05             6.082935e+05   \n",
       "75%     54234.500000       0.000010    1.885158e+06             1.683580e+06   \n",
       "max    228763.000000  125034.000000    1.035598e+08             3.434838e+07   \n",
       "\n",
       "       restricted_stock  restricted_stock_deferred  total_stock_value  \\\n",
       "count      1.440000e+02               1.440000e+02       1.440000e+02   \n",
       "mean       9.050160e+05              -5.261658e+04       3.017427e+06   \n",
       "std        2.000357e+06               2.731835e+05       6.271528e+06   \n",
       "min        1.000000e-05              -2.604490e+06       1.000000e-05   \n",
       "25%        4.409300e+04               1.000000e-05       2.563765e+05   \n",
       "50%        3.619780e+05               1.000000e-05       9.805345e+05   \n",
       "75%        8.571030e+05               1.000000e-05       2.372703e+06   \n",
       "max        1.476169e+07               1.000000e-05       4.911008e+07   \n",
       "\n",
       "       from_messages   to_messages  from_poi_to_this_person  \\\n",
       "count     144.000000    144.000000               144.000000   \n",
       "mean      363.583337   1238.555560                38.756948   \n",
       "std      1450.675238   2237.564813                74.276767   \n",
       "min         0.000010      0.000010                 0.000000   \n",
       "25%         0.000010      0.000010                 0.000010   \n",
       "50%        17.500000    347.500000                 4.000000   \n",
       "75%        53.000000   1623.000000                41.250000   \n",
       "max     14368.000000  15149.000000               528.000000   \n",
       "\n",
       "       from_this_person_to_poi  shared_receipt_with_poi  \n",
       "count               144.000000               144.000000  \n",
       "mean                 24.625004               702.611115  \n",
       "std                  79.778264              1077.290734  \n",
       "min                   0.000000                 0.000010  \n",
       "25%                   0.000010                 0.000010  \n",
       "50%                   0.000010               114.000000  \n",
       "75%                  14.000000               933.750000  \n",
       "max                 609.000000              5521.000000  "
      ]
     },
     "execution_count": 128,
     "metadata": {},
     "output_type": "execute_result"
    }
   ],
   "source": [
    "# Drop the 'TOTAL' row:\n",
    "data_df = data_df.drop(['TOTAL'])\n",
    "data_df.describe()"
   ]
  },
  {
   "cell_type": "code",
   "execution_count": 129,
   "metadata": {
    "collapsed": false
   },
   "outputs": [
    {
     "data": {
      "image/png": "[encoded data removed]",
      "text/plain": [
       "<matplotlib.figure.Figure at 0x7ffa31f6b950>"
      ]
     },
     "metadata": {},
     "output_type": "display_data"
    }
   ],
   "source": [
    "sp = data_df.plot.scatter(x = 'salary', y = 'deferral_payments', c = 'poi', edgecolors = 'Blue', \n",
    "                          s = 50)"
   ]
  },
  {
   "cell_type": "markdown",
   "metadata": {},
   "source": [
    "The data looks a lot more sensible now. There are still two significant outliers but they correspond to actual staff members (Jeffrey Skelling and Mark Frevert). As often with financial data, we might need to opt for log scales in further exploration. But for now, we are trying to identify outliers so we will stick to linear scales.\n",
    "Let's continue to plot observations:"
   ]
  },
  {
   "cell_type": "code",
   "execution_count": 130,
   "metadata": {
    "collapsed": false
   },
   "outputs": [
    {
     "data": {
      "image/png": "[encoded data removed]",
      "text/plain": [
       "<matplotlib.figure.Figure at 0x7ffa3146b3d0>"
      ]
     },
     "metadata": {},
     "output_type": "display_data"
    }
   ],
   "source": [
    "sp = data_df.plot.scatter(x = 'salary', y = 'bonus', c = 'poi', edgecolors = 'Blue', \n",
    "                          s = 50)"
   ]
  },
  {
   "cell_type": "code",
   "execution_count": 131,
   "metadata": {
    "collapsed": false
   },
   "outputs": [
    {
     "data": {
      "image/png": "[encoded data removed]",
      "text/plain": [
       "<matplotlib.figure.Figure at 0x7ffa3167a250>"
      ]
     },
     "metadata": {},
     "output_type": "display_data"
    }
   ],
   "source": [
    "sp = data_df.plot.scatter(x = 'salary', y = 'expenses', c = 'poi', edgecolors = 'Blue', \n",
    "                          s = 50)"
   ]
  },
  {
   "cell_type": "code",
   "execution_count": 132,
   "metadata": {
    "collapsed": false
   },
   "outputs": [
    {
     "data": {
      "image/png": "[encoded data removed]",
      "text/plain": [
       "<matplotlib.figure.Figure at 0x7ffa30fdf950>"
      ]
     },
     "metadata": {},
     "output_type": "display_data"
    }
   ],
   "source": [
    "sp = data_df.plot.scatter(x = 'salary', y = 'total_payments', c = 'poi', edgecolors = 'Blue', \n",
    "                          s = 50)"
   ]
  },
  {
   "cell_type": "markdown",
   "metadata": {},
   "source": [
    "Wow, now we have someone whose total payments is one order of magnitude above everyone else's. This is Kenneth Lay; the bulk of the payments come from Loan Advances. We will need to make a decision as to whether we want to keep him in the data or not... Let's see what this plot looks like with a logarithmic y-scale:"
   ]
  },
  {
   "cell_type": "code",
   "execution_count": 133,
   "metadata": {
    "collapsed": false
   },
   "outputs": [
    {
     "data": {
      "text/plain": [
       "(10000.0, 150000000.0)"
      ]
     },
     "execution_count": 133,
     "metadata": {},
     "output_type": "execute_result"
    },
    {
     "data": {
      "image/png": "[encoded data removed]",
      "text/plain": [
       "<matplotlib.figure.Figure at 0x7ffa31bf1390>"
      ]
     },
     "metadata": {},
     "output_type": "display_data"
    }
   ],
   "source": [
    "sp = data_df.plot.scatter(x = 'salary', y = 'total_payments', c = 'poi', edgecolors = 'Blue', \n",
    "                          s = 50)\n",
    "sp.set_yscale('log')\n",
    "sp.set_ylim(1.0e4, 1.5e8)"
   ]
  },
  {
   "cell_type": "markdown",
   "metadata": {},
   "source": [
    "Now there seems to be a correlation between the two variables."
   ]
  },
  {
   "cell_type": "code",
   "execution_count": 134,
   "metadata": {
    "collapsed": false
   },
   "outputs": [
    {
     "data": {
      "image/png": "[encoded data removed]",
      "text/plain": [
       "<matplotlib.figure.Figure at 0x7ffa31c27910>"
      ]
     },
     "metadata": {},
     "output_type": "display_data"
    }
   ],
   "source": [
    "sp = data_df.plot.scatter(x = 'salary', y = 'total_stock_value', c = 'poi', edgecolors = 'Blue', \n",
    "                          s = 50)"
   ]
  },
  {
   "cell_type": "markdown",
   "metadata": {},
   "source": [
    "Again, Kenneth Lay stands out with a total stock value of over $49mil. This is a real observations, so I decide to keep it for now."
   ]
  },
  {
   "cell_type": "code",
   "execution_count": 135,
   "metadata": {
    "collapsed": false
   },
   "outputs": [
    {
     "data": {
      "text/plain": [
       "(10000.0, 150000000.0)"
      ]
     },
     "execution_count": 135,
     "metadata": {},
     "output_type": "execute_result"
    },
    {
     "data": {
      "image/png": "[encoded data removed]",
      "text/plain": [
       "<matplotlib.figure.Figure at 0x7ffa31b4de50>"
      ]
     },
     "metadata": {},
     "output_type": "display_data"
    }
   ],
   "source": [
    "sp = data_df.plot.scatter(x = 'salary', y = 'total_stock_value', c = 'poi', edgecolors = 'Blue', \n",
    "                          s = 50)\n",
    "sp.set_yscale('log')\n",
    "sp.set_ylim(1.0e4, 1.5e8)"
   ]
  },
  {
   "cell_type": "markdown",
   "metadata": {},
   "source": [
    "The two variables seem associated but the relationship may not be linear, even taking the log of `total_stock_value`."
   ]
  },
  {
   "cell_type": "markdown",
   "metadata": {},
   "source": [
    "Let's now look at email features:"
   ]
  },
  {
   "cell_type": "code",
   "execution_count": 136,
   "metadata": {
    "collapsed": false
   },
   "outputs": [
    {
     "data": {
      "image/png": "[encoded data removed]",
      "text/plain": [
       "<matplotlib.figure.Figure at 0x7ffa3171bcd0>"
      ]
     },
     "metadata": {},
     "output_type": "display_data"
    }
   ],
   "source": [
    "sp = data_df.plot.scatter(x = 'to_messages', y = 'from_messages', c = 'poi', edgecolors = 'Blue', \n",
    "                          s = 50)"
   ]
  },
  {
   "cell_type": "markdown",
   "metadata": {},
   "source": [
    "One employee stands out as extremely verbose! They sent almost 3 times as many messages as they received. Let's find out who they were:"
   ]
  },
  {
   "cell_type": "code",
   "execution_count": 137,
   "metadata": {
    "collapsed": false
   },
   "outputs": [
    {
     "data": {
      "text/html": [
       "<div>\n",
       "<style>\n",
       "    .dataframe thead tr:only-child th {\n",
       "        text-align: right;\n",
       "    }\n",
       "\n",
       "    .dataframe thead th {\n",
       "        text-align: left;\n",
       "    }\n",
       "\n",
       "    .dataframe tbody tr th {\n",
       "        vertical-align: top;\n",
       "    }\n",
       "</style>\n",
       "<table border=\"1\" class=\"dataframe\">\n",
       "  <thead>\n",
       "    <tr style=\"text-align: right;\">\n",
       "      <th></th>\n",
       "      <th>poi</th>\n",
       "      <th>salary</th>\n",
       "      <th>bonus</th>\n",
       "      <th>long_term_incentive</th>\n",
       "      <th>deferred_income</th>\n",
       "      <th>deferral_payments</th>\n",
       "      <th>loan_advances</th>\n",
       "      <th>other</th>\n",
       "      <th>expenses</th>\n",
       "      <th>director_fees</th>\n",
       "      <th>total_payments</th>\n",
       "      <th>exercised_stock_options</th>\n",
       "      <th>restricted_stock</th>\n",
       "      <th>restricted_stock_deferred</th>\n",
       "      <th>total_stock_value</th>\n",
       "      <th>from_messages</th>\n",
       "      <th>to_messages</th>\n",
       "      <th>from_poi_to_this_person</th>\n",
       "      <th>from_this_person_to_poi</th>\n",
       "      <th>shared_receipt_with_poi</th>\n",
       "    </tr>\n",
       "  </thead>\n",
       "  <tbody>\n",
       "    <tr>\n",
       "      <th>KAMINSKI WINCENTY J</th>\n",
       "      <td>0.0</td>\n",
       "      <td>275101.0</td>\n",
       "      <td>400000.0</td>\n",
       "      <td>323466.0</td>\n",
       "      <td>0.00001</td>\n",
       "      <td>0.00001</td>\n",
       "      <td>0.00001</td>\n",
       "      <td>4669.0</td>\n",
       "      <td>83585.0</td>\n",
       "      <td>0.00001</td>\n",
       "      <td>1086821.0</td>\n",
       "      <td>850010.0</td>\n",
       "      <td>126027.0</td>\n",
       "      <td>0.00001</td>\n",
       "      <td>976037.0</td>\n",
       "      <td>14368.0</td>\n",
       "      <td>4607.0</td>\n",
       "      <td>41.0</td>\n",
       "      <td>171.0</td>\n",
       "      <td>583.0</td>\n",
       "    </tr>\n",
       "  </tbody>\n",
       "</table>\n",
       "</div>"
      ],
      "text/plain": [
       "                     poi    salary     bonus  long_term_incentive  \\\n",
       "KAMINSKI WINCENTY J  0.0  275101.0  400000.0             323466.0   \n",
       "\n",
       "                     deferred_income  deferral_payments  loan_advances  \\\n",
       "KAMINSKI WINCENTY J          0.00001            0.00001        0.00001   \n",
       "\n",
       "                      other  expenses  director_fees  total_payments  \\\n",
       "KAMINSKI WINCENTY J  4669.0   83585.0        0.00001       1086821.0   \n",
       "\n",
       "                     exercised_stock_options  restricted_stock  \\\n",
       "KAMINSKI WINCENTY J                 850010.0          126027.0   \n",
       "\n",
       "                     restricted_stock_deferred  total_stock_value  \\\n",
       "KAMINSKI WINCENTY J                    0.00001           976037.0   \n",
       "\n",
       "                     from_messages  to_messages  from_poi_to_this_person  \\\n",
       "KAMINSKI WINCENTY J        14368.0       4607.0                     41.0   \n",
       "\n",
       "                     from_this_person_to_poi  shared_receipt_with_poi  \n",
       "KAMINSKI WINCENTY J                    171.0                    583.0  "
      ]
     },
     "execution_count": 137,
     "metadata": {},
     "output_type": "execute_result"
    }
   ],
   "source": [
    "data_df[data_df['from_messages'] == np.max(data_df['from_messages'])]"
   ]
  },
  {
   "cell_type": "markdown",
   "metadata": {},
   "source": [
    "The Wikipedia page about Vince Kaminski tells us he was Managing Director for Research and repetedly voiced objections to Enron's practices, warning that a single event could trigger a cascade of provision clauses in creditor contracts that would quickly lead to the demise of Enron. He was unfortunately proved right... Would this explain the discrepancy between the number of emails sent andb received? A detailed analysis of his emails might give us some insight into this but this is outside the scope of this project."
   ]
  },
  {
   "cell_type": "code",
   "execution_count": 138,
   "metadata": {
    "collapsed": false
   },
   "outputs": [
    {
     "data": {
      "image/png": "[encoded data removed]",
      "text/plain": [
       "<matplotlib.figure.Figure at 0x7ffa320cbc90>"
      ]
     },
     "metadata": {},
     "output_type": "display_data"
    }
   ],
   "source": [
    "sp = data_df.plot.scatter(x = 'from_poi_to_this_person', y = 'from_this_person_to_poi',\n",
    "                          c = 'poi', edgecolors = 'Blue', \n",
    "                          s = 50)"
   ]
  },
  {
   "cell_type": "markdown",
   "metadata": {},
   "source": [
    "Again, let's look at who the two outliers are:"
   ]
  },
  {
   "cell_type": "code",
   "execution_count": 139,
   "metadata": {
    "collapsed": false
   },
   "outputs": [
    {
     "data": {
      "text/html": [
       "<div>\n",
       "<style>\n",
       "    .dataframe thead tr:only-child th {\n",
       "        text-align: right;\n",
       "    }\n",
       "\n",
       "    .dataframe thead th {\n",
       "        text-align: left;\n",
       "    }\n",
       "\n",
       "    .dataframe tbody tr th {\n",
       "        vertical-align: top;\n",
       "    }\n",
       "</style>\n",
       "<table border=\"1\" class=\"dataframe\">\n",
       "  <thead>\n",
       "    <tr style=\"text-align: right;\">\n",
       "      <th></th>\n",
       "      <th>poi</th>\n",
       "      <th>salary</th>\n",
       "      <th>bonus</th>\n",
       "      <th>long_term_incentive</th>\n",
       "      <th>deferred_income</th>\n",
       "      <th>deferral_payments</th>\n",
       "      <th>loan_advances</th>\n",
       "      <th>other</th>\n",
       "      <th>expenses</th>\n",
       "      <th>director_fees</th>\n",
       "      <th>total_payments</th>\n",
       "      <th>exercised_stock_options</th>\n",
       "      <th>restricted_stock</th>\n",
       "      <th>restricted_stock_deferred</th>\n",
       "      <th>total_stock_value</th>\n",
       "      <th>from_messages</th>\n",
       "      <th>to_messages</th>\n",
       "      <th>from_poi_to_this_person</th>\n",
       "      <th>from_this_person_to_poi</th>\n",
       "      <th>shared_receipt_with_poi</th>\n",
       "    </tr>\n",
       "  </thead>\n",
       "  <tbody>\n",
       "    <tr>\n",
       "      <th>DELAINEY DAVID W</th>\n",
       "      <td>1.0</td>\n",
       "      <td>365163.0</td>\n",
       "      <td>3000000.0</td>\n",
       "      <td>1294981.0</td>\n",
       "      <td>0.00001</td>\n",
       "      <td>0.00001</td>\n",
       "      <td>0.00001</td>\n",
       "      <td>1661.0</td>\n",
       "      <td>86174.0</td>\n",
       "      <td>0.00001</td>\n",
       "      <td>4747979.0</td>\n",
       "      <td>2291113.0</td>\n",
       "      <td>1323148.0</td>\n",
       "      <td>0.00001</td>\n",
       "      <td>3614261.0</td>\n",
       "      <td>3069.0</td>\n",
       "      <td>3093.0</td>\n",
       "      <td>66.0</td>\n",
       "      <td>609.0</td>\n",
       "      <td>2097.0</td>\n",
       "    </tr>\n",
       "  </tbody>\n",
       "</table>\n",
       "</div>"
      ],
      "text/plain": [
       "                  poi    salary      bonus  long_term_incentive  \\\n",
       "DELAINEY DAVID W  1.0  365163.0  3000000.0            1294981.0   \n",
       "\n",
       "                  deferred_income  deferral_payments  loan_advances   other  \\\n",
       "DELAINEY DAVID W          0.00001            0.00001        0.00001  1661.0   \n",
       "\n",
       "                  expenses  director_fees  total_payments  \\\n",
       "DELAINEY DAVID W   86174.0        0.00001       4747979.0   \n",
       "\n",
       "                  exercised_stock_options  restricted_stock  \\\n",
       "DELAINEY DAVID W                2291113.0         1323148.0   \n",
       "\n",
       "                  restricted_stock_deferred  total_stock_value  from_messages  \\\n",
       "DELAINEY DAVID W                    0.00001          3614261.0         3069.0   \n",
       "\n",
       "                  to_messages  from_poi_to_this_person  \\\n",
       "DELAINEY DAVID W       3093.0                     66.0   \n",
       "\n",
       "                  from_this_person_to_poi  shared_receipt_with_poi  \n",
       "DELAINEY DAVID W                    609.0                   2097.0  "
      ]
     },
     "execution_count": 139,
     "metadata": {},
     "output_type": "execute_result"
    }
   ],
   "source": [
    "data_df[data_df['from_this_person_to_poi'] == np.max(data_df['from_this_person_to_poi'])]"
   ]
  },
  {
   "cell_type": "code",
   "execution_count": 140,
   "metadata": {
    "collapsed": false
   },
   "outputs": [
    {
     "data": {
      "text/html": [
       "<div>\n",
       "<style>\n",
       "    .dataframe thead tr:only-child th {\n",
       "        text-align: right;\n",
       "    }\n",
       "\n",
       "    .dataframe thead th {\n",
       "        text-align: left;\n",
       "    }\n",
       "\n",
       "    .dataframe tbody tr th {\n",
       "        vertical-align: top;\n",
       "    }\n",
       "</style>\n",
       "<table border=\"1\" class=\"dataframe\">\n",
       "  <thead>\n",
       "    <tr style=\"text-align: right;\">\n",
       "      <th></th>\n",
       "      <th>poi</th>\n",
       "      <th>salary</th>\n",
       "      <th>bonus</th>\n",
       "      <th>long_term_incentive</th>\n",
       "      <th>deferred_income</th>\n",
       "      <th>deferral_payments</th>\n",
       "      <th>loan_advances</th>\n",
       "      <th>other</th>\n",
       "      <th>expenses</th>\n",
       "      <th>director_fees</th>\n",
       "      <th>total_payments</th>\n",
       "      <th>exercised_stock_options</th>\n",
       "      <th>restricted_stock</th>\n",
       "      <th>restricted_stock_deferred</th>\n",
       "      <th>total_stock_value</th>\n",
       "      <th>from_messages</th>\n",
       "      <th>to_messages</th>\n",
       "      <th>from_poi_to_this_person</th>\n",
       "      <th>from_this_person_to_poi</th>\n",
       "      <th>shared_receipt_with_poi</th>\n",
       "    </tr>\n",
       "  </thead>\n",
       "  <tbody>\n",
       "    <tr>\n",
       "      <th>LAVORATO JOHN J</th>\n",
       "      <td>0.0</td>\n",
       "      <td>339288.0</td>\n",
       "      <td>8000000.0</td>\n",
       "      <td>2035380.0</td>\n",
       "      <td>0.00001</td>\n",
       "      <td>0.00001</td>\n",
       "      <td>0.00001</td>\n",
       "      <td>1552.0</td>\n",
       "      <td>49537.0</td>\n",
       "      <td>0.00001</td>\n",
       "      <td>10425757.0</td>\n",
       "      <td>4158995.0</td>\n",
       "      <td>1008149.0</td>\n",
       "      <td>0.00001</td>\n",
       "      <td>5167144.0</td>\n",
       "      <td>2585.0</td>\n",
       "      <td>7259.0</td>\n",
       "      <td>528.0</td>\n",
       "      <td>411.0</td>\n",
       "      <td>3962.0</td>\n",
       "    </tr>\n",
       "  </tbody>\n",
       "</table>\n",
       "</div>"
      ],
      "text/plain": [
       "                 poi    salary      bonus  long_term_incentive  \\\n",
       "LAVORATO JOHN J  0.0  339288.0  8000000.0            2035380.0   \n",
       "\n",
       "                 deferred_income  deferral_payments  loan_advances   other  \\\n",
       "LAVORATO JOHN J          0.00001            0.00001        0.00001  1552.0   \n",
       "\n",
       "                 expenses  director_fees  total_payments  \\\n",
       "LAVORATO JOHN J   49537.0        0.00001      10425757.0   \n",
       "\n",
       "                 exercised_stock_options  restricted_stock  \\\n",
       "LAVORATO JOHN J                4158995.0         1008149.0   \n",
       "\n",
       "                 restricted_stock_deferred  total_stock_value  from_messages  \\\n",
       "LAVORATO JOHN J                    0.00001          5167144.0         2585.0   \n",
       "\n",
       "                 to_messages  from_poi_to_this_person  \\\n",
       "LAVORATO JOHN J       7259.0                    528.0   \n",
       "\n",
       "                 from_this_person_to_poi  shared_receipt_with_poi  \n",
       "LAVORATO JOHN J                    411.0                   3962.0  "
      ]
     },
     "execution_count": 140,
     "metadata": {},
     "output_type": "execute_result"
    }
   ],
   "source": [
    "data_df[data_df['from_poi_to_this_person'] == np.max(data_df['from_poi_to_this_person'])]"
   ]
  },
  {
   "cell_type": "markdown",
   "metadata": {},
   "source": [
    "David Delainey is a POI; in fact he was amongst the first convicted employees of Enron. John Lavorato is not a POI, and seems to have privately expressed concerns about some of Enron's behaviour."
   ]
  },
  {
   "cell_type": "markdown",
   "metadata": {},
   "source": [
    "* **Look at individual variable distributions:**"
   ]
  },
  {
   "cell_type": "markdown",
   "metadata": {},
   "source": [
    "In this section we will plot histograms for each feature variable and apply log transformations where required to make them closer to a normal distribution, which helps many machine learning models."
   ]
  },
  {
   "cell_type": "code",
   "execution_count": 141,
   "metadata": {
    "collapsed": false
   },
   "outputs": [
    {
     "data": {
      "text/plain": [
       "(0, 20)"
      ]
     },
     "execution_count": 141,
     "metadata": {},
     "output_type": "execute_result"
    },
    {
     "data": {
      "image/png": "[encoded data removed]",
      "text/plain": [
       "<matplotlib.figure.Figure at 0x7ffa3228de10>"
      ]
     },
     "metadata": {},
     "output_type": "display_data"
    }
   ],
   "source": [
    "fig, ax = plt.subplots()\n",
    "data_df.hist('salary', ax = ax, bins = 50)\n",
    "ax.set_ylim(0, 20)"
   ]
  },
  {
   "cell_type": "markdown",
   "metadata": {},
   "source": [
    "Many salaries are 0 -- presumably, not current Enron employees. Salaries are distributed in a fairly normal way, if we exclude the 0 values."
   ]
  },
  {
   "cell_type": "code",
   "execution_count": 142,
   "metadata": {
    "collapsed": false
   },
   "outputs": [
    {
     "data": {
      "text/plain": [
       "(0, 10)"
      ]
     },
     "execution_count": 142,
     "metadata": {},
     "output_type": "execute_result"
    },
    {
     "data": {
      "image/png": "[encoded data removed]",
      "text/plain": [
       "<matplotlib.figure.Figure at 0x7ffa319eca10>"
      ]
     },
     "metadata": {},
     "output_type": "display_data"
    }
   ],
   "source": [
    "fig, ax = plt.subplots()\n",
    "data_df.hist('deferral_payments', ax = ax, bins = np.logspace(np.log10(1.e-5),\n",
    "                                                              np.log10(2.e6),\n",
    "                                                              50))\n",
    "ax.set_xscale('log')\n",
    "ax.set_xlim(1e3, None)\n",
    "ax.set_ylim(0, 10)"
   ]
  },
  {
   "cell_type": "markdown",
   "metadata": {},
   "source": [
    "For `deferral_payments`, I had to use a log transformation to get something resembling a normal distribution. Note that the count of non-zero values is low."
   ]
  },
  {
   "cell_type": "code",
   "execution_count": 143,
   "metadata": {
    "collapsed": false
   },
   "outputs": [
    {
     "data": {
      "text/plain": [
       "(0, 33.600000000000001)"
      ]
     },
     "execution_count": 143,
     "metadata": {},
     "output_type": "execute_result"
    },
    {
     "data": {
      "image/png": "[encoded data removed]",
      "text/plain": [
       "<matplotlib.figure.Figure at 0x7ffa319f7090>"
      ]
     },
     "metadata": {},
     "output_type": "display_data"
    }
   ],
   "source": [
    "fig, ax = plt.subplots()\n",
    "data_df.hist('total_payments', ax = ax, bins = np.logspace(np.log10(1.e-5),\n",
    "                                                              np.log10(2.e8),\n",
    "                                                              50))\n",
    "ax.set_xscale('log')\n",
    "ax.set_xlim(1.e2, None)\n",
    "ax.set_ylim(0, None)"
   ]
  },
  {
   "cell_type": "markdown",
   "metadata": {},
   "source": [
    "Again, a logarithmic transformation is required to have a roughly normal distribution of the non-zero values."
   ]
  },
  {
   "cell_type": "code",
   "execution_count": 144,
   "metadata": {
    "collapsed": false
   },
   "outputs": [
    {
     "data": {
      "text/plain": [
       "array([<matplotlib.axes._subplots.AxesSubplot object at 0x7ffa320a9b90>], dtype=object)"
      ]
     },
     "execution_count": 144,
     "metadata": {},
     "output_type": "execute_result"
    },
    {
     "data": {
      "image/png": "[encoded data removed]",
      "text/plain": [
       "<matplotlib.figure.Figure at 0x7ffa320a98d0>"
      ]
     },
     "metadata": {},
     "output_type": "display_data"
    }
   ],
   "source": [
    "fig, ax = plt.subplots()\n",
    "data_df.hist('loan_advances', ax = ax, bins = 50)"
   ]
  },
  {
   "cell_type": "markdown",
   "metadata": {},
   "source": [
    "The number of non-zero values does not justify using this predictor in the model."
   ]
  },
  {
   "cell_type": "code",
   "execution_count": 145,
   "metadata": {
    "collapsed": false
   },
   "outputs": [
    {
     "data": {
      "text/plain": [
       "(0, 20)"
      ]
     },
     "execution_count": 145,
     "metadata": {},
     "output_type": "execute_result"
    },
    {
     "data": {
      "image/png": "[encoded data removed]",
      "text/plain": [
       "<matplotlib.figure.Figure at 0x7ffa31ae1e10>"
      ]
     },
     "metadata": {},
     "output_type": "display_data"
    }
   ],
   "source": [
    "fig, ax = plt.subplots()\n",
    "data_df.hist('bonus', ax = ax, bins = np.logspace(np.log10(1.e-5),\n",
    "                                                              np.log10(2.e6),\n",
    "                                                              100))\n",
    "ax.set_xscale('log')\n",
    "ax.set_xlim(1e4, None)\n",
    "ax.set_ylim(0, 20)"
   ]
  },
  {
   "cell_type": "markdown",
   "metadata": {},
   "source": [
    "Here again, I used a log transformation."
   ]
  },
  {
   "cell_type": "code",
   "execution_count": 146,
   "metadata": {
    "collapsed": false
   },
   "outputs": [
    {
     "data": {
      "text/plain": [
       "array([<matplotlib.axes._subplots.AxesSubplot object at 0x7ffa31e5e550>], dtype=object)"
      ]
     },
     "execution_count": 146,
     "metadata": {},
     "output_type": "execute_result"
    },
    {
     "data": {
      "image/png": "[encoded data removed]",
      "text/plain": [
       "<matplotlib.figure.Figure at 0x7ffa31330f50>"
      ]
     },
     "metadata": {},
     "output_type": "display_data"
    }
   ],
   "source": [
    "fig, ax = plt.subplots()\n",
    "data_df.hist('restricted_stock_deferred', ax = ax, bins = 50)"
   ]
  },
  {
   "cell_type": "markdown",
   "metadata": {},
   "source": [
    "* **Look for associations between features and labels:**\n",
    "\n",
    "In this section, we will boxplot the `poi` label against the feature variables to try and find the most relevant features to select in our model."
   ]
  },
  {
   "cell_type": "code",
   "execution_count": 147,
   "metadata": {
    "collapsed": false
   },
   "outputs": [
    {
     "data": {
      "image/png": "[encoded data removed]",
      "text/plain": [
       "<matplotlib.figure.Figure at 0x7ffa3271fa10>"
      ]
     },
     "metadata": {},
     "output_type": "display_data"
    }
   ],
   "source": [
    "fig, ax = plt.subplots(2, 2, sharey = False, figsize = (10, 15))\n",
    "bp = data_df.boxplot(['salary', 'bonus', 'expenses', 'director_fees'], by = 'poi', \n",
    "                      ax = ax)"
   ]
  },
  {
   "cell_type": "markdown",
   "metadata": {},
   "source": [
    "It looks like `salary` and `bonus` might be good predictors. `expenses` seem less significant.\n",
    "Finally, `director_fees` seems useful because none of the POI seems to have received any director fees. However, this also applies to many non-POIs so it is not enough for perfect prediction. Moreover, very few employees received these fees so the information might not be very significant."
   ]
  },
  {
   "cell_type": "code",
   "execution_count": 148,
   "metadata": {
    "collapsed": false
   },
   "outputs": [
    {
     "data": {
      "text/html": [
       "<div>\n",
       "<style>\n",
       "    .dataframe thead tr:only-child th {\n",
       "        text-align: right;\n",
       "    }\n",
       "\n",
       "    .dataframe thead th {\n",
       "        text-align: left;\n",
       "    }\n",
       "\n",
       "    .dataframe tbody tr th {\n",
       "        vertical-align: top;\n",
       "    }\n",
       "</style>\n",
       "<table border=\"1\" class=\"dataframe\">\n",
       "  <thead>\n",
       "    <tr style=\"text-align: right;\">\n",
       "      <th></th>\n",
       "      <th>director_fees</th>\n",
       "      <th>poi</th>\n",
       "    </tr>\n",
       "  </thead>\n",
       "  <tbody>\n",
       "    <tr>\n",
       "      <th>ALLEN PHILLIP K</th>\n",
       "      <td>0.00001</td>\n",
       "      <td>0.0</td>\n",
       "    </tr>\n",
       "    <tr>\n",
       "      <th>BADUM JAMES P</th>\n",
       "      <td>0.00001</td>\n",
       "      <td>0.0</td>\n",
       "    </tr>\n",
       "    <tr>\n",
       "      <th>BANNANTINE JAMES M</th>\n",
       "      <td>0.00001</td>\n",
       "      <td>0.0</td>\n",
       "    </tr>\n",
       "    <tr>\n",
       "      <th>BAXTER JOHN C</th>\n",
       "      <td>0.00001</td>\n",
       "      <td>0.0</td>\n",
       "    </tr>\n",
       "    <tr>\n",
       "      <th>BAY FRANKLIN R</th>\n",
       "      <td>0.00001</td>\n",
       "      <td>0.0</td>\n",
       "    </tr>\n",
       "    <tr>\n",
       "      <th>BAZELIDES PHILIP J</th>\n",
       "      <td>0.00001</td>\n",
       "      <td>0.0</td>\n",
       "    </tr>\n",
       "    <tr>\n",
       "      <th>BECK SALLY W</th>\n",
       "      <td>0.00001</td>\n",
       "      <td>0.0</td>\n",
       "    </tr>\n",
       "    <tr>\n",
       "      <th>BELDEN TIMOTHY N</th>\n",
       "      <td>0.00001</td>\n",
       "      <td>1.0</td>\n",
       "    </tr>\n",
       "    <tr>\n",
       "      <th>BELFER ROBERT</th>\n",
       "      <td>102500.00000</td>\n",
       "      <td>0.0</td>\n",
       "    </tr>\n",
       "    <tr>\n",
       "      <th>BERBERIAN DAVID</th>\n",
       "      <td>0.00001</td>\n",
       "      <td>0.0</td>\n",
       "    </tr>\n",
       "    <tr>\n",
       "      <th>BERGSIEKER RICHARD P</th>\n",
       "      <td>0.00001</td>\n",
       "      <td>0.0</td>\n",
       "    </tr>\n",
       "    <tr>\n",
       "      <th>BHATNAGAR SANJAY</th>\n",
       "      <td>0.00001</td>\n",
       "      <td>0.0</td>\n",
       "    </tr>\n",
       "    <tr>\n",
       "      <th>BIBI PHILIPPE A</th>\n",
       "      <td>0.00001</td>\n",
       "      <td>0.0</td>\n",
       "    </tr>\n",
       "    <tr>\n",
       "      <th>BLACHMAN JEREMY M</th>\n",
       "      <td>0.00001</td>\n",
       "      <td>0.0</td>\n",
       "    </tr>\n",
       "    <tr>\n",
       "      <th>BLAKE JR. NORMAN P</th>\n",
       "      <td>113784.00000</td>\n",
       "      <td>0.0</td>\n",
       "    </tr>\n",
       "    <tr>\n",
       "      <th>BOWEN JR RAYMOND M</th>\n",
       "      <td>0.00001</td>\n",
       "      <td>1.0</td>\n",
       "    </tr>\n",
       "    <tr>\n",
       "      <th>BROWN MICHAEL</th>\n",
       "      <td>0.00001</td>\n",
       "      <td>0.0</td>\n",
       "    </tr>\n",
       "    <tr>\n",
       "      <th>BUCHANAN HAROLD G</th>\n",
       "      <td>0.00001</td>\n",
       "      <td>0.0</td>\n",
       "    </tr>\n",
       "    <tr>\n",
       "      <th>BUTTS ROBERT H</th>\n",
       "      <td>0.00001</td>\n",
       "      <td>0.0</td>\n",
       "    </tr>\n",
       "    <tr>\n",
       "      <th>BUY RICHARD B</th>\n",
       "      <td>0.00001</td>\n",
       "      <td>0.0</td>\n",
       "    </tr>\n",
       "    <tr>\n",
       "      <th>CALGER CHRISTOPHER F</th>\n",
       "      <td>0.00001</td>\n",
       "      <td>1.0</td>\n",
       "    </tr>\n",
       "    <tr>\n",
       "      <th>CARTER REBECCA C</th>\n",
       "      <td>0.00001</td>\n",
       "      <td>0.0</td>\n",
       "    </tr>\n",
       "    <tr>\n",
       "      <th>CAUSEY RICHARD A</th>\n",
       "      <td>0.00001</td>\n",
       "      <td>1.0</td>\n",
       "    </tr>\n",
       "    <tr>\n",
       "      <th>CHAN RONNIE</th>\n",
       "      <td>98784.00000</td>\n",
       "      <td>0.0</td>\n",
       "    </tr>\n",
       "    <tr>\n",
       "      <th>CHRISTODOULOU DIOMEDES</th>\n",
       "      <td>0.00001</td>\n",
       "      <td>0.0</td>\n",
       "    </tr>\n",
       "    <tr>\n",
       "      <th>CLINE KENNETH W</th>\n",
       "      <td>0.00001</td>\n",
       "      <td>0.0</td>\n",
       "    </tr>\n",
       "    <tr>\n",
       "      <th>COLWELL WESLEY</th>\n",
       "      <td>0.00001</td>\n",
       "      <td>1.0</td>\n",
       "    </tr>\n",
       "    <tr>\n",
       "      <th>CORDES WILLIAM R</th>\n",
       "      <td>0.00001</td>\n",
       "      <td>0.0</td>\n",
       "    </tr>\n",
       "    <tr>\n",
       "      <th>COX DAVID</th>\n",
       "      <td>0.00001</td>\n",
       "      <td>0.0</td>\n",
       "    </tr>\n",
       "    <tr>\n",
       "      <th>CUMBERLAND MICHAEL S</th>\n",
       "      <td>0.00001</td>\n",
       "      <td>0.0</td>\n",
       "    </tr>\n",
       "    <tr>\n",
       "      <th>...</th>\n",
       "      <td>...</td>\n",
       "      <td>...</td>\n",
       "    </tr>\n",
       "    <tr>\n",
       "      <th>SAVAGE FRANK</th>\n",
       "      <td>125034.00000</td>\n",
       "      <td>0.0</td>\n",
       "    </tr>\n",
       "    <tr>\n",
       "      <th>SCRIMSHAW MATTHEW</th>\n",
       "      <td>0.00001</td>\n",
       "      <td>0.0</td>\n",
       "    </tr>\n",
       "    <tr>\n",
       "      <th>SHANKMAN JEFFREY A</th>\n",
       "      <td>0.00001</td>\n",
       "      <td>0.0</td>\n",
       "    </tr>\n",
       "    <tr>\n",
       "      <th>SHAPIRO RICHARD S</th>\n",
       "      <td>0.00001</td>\n",
       "      <td>0.0</td>\n",
       "    </tr>\n",
       "    <tr>\n",
       "      <th>SHARP VICTORIA T</th>\n",
       "      <td>0.00001</td>\n",
       "      <td>0.0</td>\n",
       "    </tr>\n",
       "    <tr>\n",
       "      <th>SHELBY REX</th>\n",
       "      <td>0.00001</td>\n",
       "      <td>1.0</td>\n",
       "    </tr>\n",
       "    <tr>\n",
       "      <th>SHERRICK JEFFREY B</th>\n",
       "      <td>0.00001</td>\n",
       "      <td>0.0</td>\n",
       "    </tr>\n",
       "    <tr>\n",
       "      <th>SHERRIFF JOHN R</th>\n",
       "      <td>0.00001</td>\n",
       "      <td>0.0</td>\n",
       "    </tr>\n",
       "    <tr>\n",
       "      <th>SKILLING JEFFREY K</th>\n",
       "      <td>0.00001</td>\n",
       "      <td>1.0</td>\n",
       "    </tr>\n",
       "    <tr>\n",
       "      <th>STABLER FRANK</th>\n",
       "      <td>0.00001</td>\n",
       "      <td>0.0</td>\n",
       "    </tr>\n",
       "    <tr>\n",
       "      <th>SULLIVAN-SHAKLOVITZ COLLEEN</th>\n",
       "      <td>0.00001</td>\n",
       "      <td>0.0</td>\n",
       "    </tr>\n",
       "    <tr>\n",
       "      <th>SUNDE MARTIN</th>\n",
       "      <td>0.00001</td>\n",
       "      <td>0.0</td>\n",
       "    </tr>\n",
       "    <tr>\n",
       "      <th>TAYLOR MITCHELL S</th>\n",
       "      <td>0.00001</td>\n",
       "      <td>0.0</td>\n",
       "    </tr>\n",
       "    <tr>\n",
       "      <th>THORN TERENCE H</th>\n",
       "      <td>0.00001</td>\n",
       "      <td>0.0</td>\n",
       "    </tr>\n",
       "    <tr>\n",
       "      <th>TILNEY ELIZABETH A</th>\n",
       "      <td>0.00001</td>\n",
       "      <td>0.0</td>\n",
       "    </tr>\n",
       "    <tr>\n",
       "      <th>UMANOFF ADAM S</th>\n",
       "      <td>0.00001</td>\n",
       "      <td>0.0</td>\n",
       "    </tr>\n",
       "    <tr>\n",
       "      <th>URQUHART JOHN A</th>\n",
       "      <td>36666.00000</td>\n",
       "      <td>0.0</td>\n",
       "    </tr>\n",
       "    <tr>\n",
       "      <th>WAKEHAM JOHN</th>\n",
       "      <td>109298.00000</td>\n",
       "      <td>0.0</td>\n",
       "    </tr>\n",
       "    <tr>\n",
       "      <th>WALLS JR ROBERT H</th>\n",
       "      <td>0.00001</td>\n",
       "      <td>0.0</td>\n",
       "    </tr>\n",
       "    <tr>\n",
       "      <th>WALTERS GARETH W</th>\n",
       "      <td>0.00001</td>\n",
       "      <td>0.0</td>\n",
       "    </tr>\n",
       "    <tr>\n",
       "      <th>WASAFF GEORGE</th>\n",
       "      <td>0.00001</td>\n",
       "      <td>0.0</td>\n",
       "    </tr>\n",
       "    <tr>\n",
       "      <th>WESTFAHL RICHARD K</th>\n",
       "      <td>0.00001</td>\n",
       "      <td>0.0</td>\n",
       "    </tr>\n",
       "    <tr>\n",
       "      <th>WHALEY DAVID A</th>\n",
       "      <td>0.00001</td>\n",
       "      <td>0.0</td>\n",
       "    </tr>\n",
       "    <tr>\n",
       "      <th>WHALLEY LAWRENCE G</th>\n",
       "      <td>0.00001</td>\n",
       "      <td>0.0</td>\n",
       "    </tr>\n",
       "    <tr>\n",
       "      <th>WHITE JR THOMAS E</th>\n",
       "      <td>0.00001</td>\n",
       "      <td>0.0</td>\n",
       "    </tr>\n",
       "    <tr>\n",
       "      <th>WINOKUR JR. HERBERT S</th>\n",
       "      <td>108579.00000</td>\n",
       "      <td>0.0</td>\n",
       "    </tr>\n",
       "    <tr>\n",
       "      <th>WODRASKA JOHN</th>\n",
       "      <td>0.00001</td>\n",
       "      <td>0.0</td>\n",
       "    </tr>\n",
       "    <tr>\n",
       "      <th>WROBEL BRUCE</th>\n",
       "      <td>0.00001</td>\n",
       "      <td>0.0</td>\n",
       "    </tr>\n",
       "    <tr>\n",
       "      <th>YEAGER F SCOTT</th>\n",
       "      <td>0.00001</td>\n",
       "      <td>1.0</td>\n",
       "    </tr>\n",
       "    <tr>\n",
       "      <th>YEAP SOON</th>\n",
       "      <td>0.00001</td>\n",
       "      <td>0.0</td>\n",
       "    </tr>\n",
       "  </tbody>\n",
       "</table>\n",
       "<p>144 rows × 2 columns</p>\n",
       "</div>"
      ],
      "text/plain": [
       "                             director_fees  poi\n",
       "ALLEN PHILLIP K                    0.00001  0.0\n",
       "BADUM JAMES P                      0.00001  0.0\n",
       "BANNANTINE JAMES M                 0.00001  0.0\n",
       "BAXTER JOHN C                      0.00001  0.0\n",
       "BAY FRANKLIN R                     0.00001  0.0\n",
       "BAZELIDES PHILIP J                 0.00001  0.0\n",
       "BECK SALLY W                       0.00001  0.0\n",
       "BELDEN TIMOTHY N                   0.00001  1.0\n",
       "BELFER ROBERT                 102500.00000  0.0\n",
       "BERBERIAN DAVID                    0.00001  0.0\n",
       "BERGSIEKER RICHARD P               0.00001  0.0\n",
       "BHATNAGAR SANJAY                   0.00001  0.0\n",
       "BIBI PHILIPPE A                    0.00001  0.0\n",
       "BLACHMAN JEREMY M                  0.00001  0.0\n",
       "BLAKE JR. NORMAN P            113784.00000  0.0\n",
       "BOWEN JR RAYMOND M                 0.00001  1.0\n",
       "BROWN MICHAEL                      0.00001  0.0\n",
       "BUCHANAN HAROLD G                  0.00001  0.0\n",
       "BUTTS ROBERT H                     0.00001  0.0\n",
       "BUY RICHARD B                      0.00001  0.0\n",
       "CALGER CHRISTOPHER F               0.00001  1.0\n",
       "CARTER REBECCA C                   0.00001  0.0\n",
       "CAUSEY RICHARD A                   0.00001  1.0\n",
       "CHAN RONNIE                    98784.00000  0.0\n",
       "CHRISTODOULOU DIOMEDES             0.00001  0.0\n",
       "CLINE KENNETH W                    0.00001  0.0\n",
       "COLWELL WESLEY                     0.00001  1.0\n",
       "CORDES WILLIAM R                   0.00001  0.0\n",
       "COX DAVID                          0.00001  0.0\n",
       "CUMBERLAND MICHAEL S               0.00001  0.0\n",
       "...                                    ...  ...\n",
       "SAVAGE FRANK                  125034.00000  0.0\n",
       "SCRIMSHAW MATTHEW                  0.00001  0.0\n",
       "SHANKMAN JEFFREY A                 0.00001  0.0\n",
       "SHAPIRO RICHARD S                  0.00001  0.0\n",
       "SHARP VICTORIA T                   0.00001  0.0\n",
       "SHELBY REX                         0.00001  1.0\n",
       "SHERRICK JEFFREY B                 0.00001  0.0\n",
       "SHERRIFF JOHN R                    0.00001  0.0\n",
       "SKILLING JEFFREY K                 0.00001  1.0\n",
       "STABLER FRANK                      0.00001  0.0\n",
       "SULLIVAN-SHAKLOVITZ COLLEEN        0.00001  0.0\n",
       "SUNDE MARTIN                       0.00001  0.0\n",
       "TAYLOR MITCHELL S                  0.00001  0.0\n",
       "THORN TERENCE H                    0.00001  0.0\n",
       "TILNEY ELIZABETH A                 0.00001  0.0\n",
       "UMANOFF ADAM S                     0.00001  0.0\n",
       "URQUHART JOHN A                36666.00000  0.0\n",
       "WAKEHAM JOHN                  109298.00000  0.0\n",
       "WALLS JR ROBERT H                  0.00001  0.0\n",
       "WALTERS GARETH W                   0.00001  0.0\n",
       "WASAFF GEORGE                      0.00001  0.0\n",
       "WESTFAHL RICHARD K                 0.00001  0.0\n",
       "WHALEY DAVID A                     0.00001  0.0\n",
       "WHALLEY LAWRENCE G                 0.00001  0.0\n",
       "WHITE JR THOMAS E                  0.00001  0.0\n",
       "WINOKUR JR. HERBERT S         108579.00000  0.0\n",
       "WODRASKA JOHN                      0.00001  0.0\n",
       "WROBEL BRUCE                       0.00001  0.0\n",
       "YEAGER F SCOTT                     0.00001  1.0\n",
       "YEAP SOON                          0.00001  0.0\n",
       "\n",
       "[144 rows x 2 columns]"
      ]
     },
     "execution_count": 148,
     "metadata": {},
     "output_type": "execute_result"
    }
   ],
   "source": [
    "data_df.loc[:, ['director_fees', 'poi']]"
   ]
  },
  {
   "cell_type": "markdown",
   "metadata": {},
   "source": [
    "Let's continue our investigation with the next set of predictors. For these predictors, a logarithmic y scale is more adequate:"
   ]
  },
  {
   "cell_type": "code",
   "execution_count": 149,
   "metadata": {
    "collapsed": false
   },
   "outputs": [],
   "source": [
    "data_df.loc[:, 'deferred_income'] = np.abs(data_df.loc[:, 'deferred_income'])"
   ]
  },
  {
   "cell_type": "code",
   "execution_count": 150,
   "metadata": {
    "collapsed": false
   },
   "outputs": [
    {
     "data": {
      "image/png": "[encoded data removed]",
      "text/plain": [
       "<matplotlib.figure.Figure at 0x7ffa328dad10>"
      ]
     },
     "metadata": {},
     "output_type": "display_data"
    }
   ],
   "source": [
    "fig, axes = plt.subplots(2, 3, sharey = False, figsize = (15, 15))\n",
    "bp = data_df.boxplot(['deferral_payments', 'loan_advances', 'deferred_income', \n",
    "                       'long_term_incentive', 'other', 'total_payments'], by = 'poi', \n",
    "                      ax = axes)\n",
    "for i in range(2):\n",
    "    for j in range(3):\n",
    "        axes[i][j].set_yscale('log')\n",
    "        axes[i][j].set_ylim(1000, None)"
   ]
  },
  {
   "cell_type": "markdown",
   "metadata": {},
   "source": [
    "Some of these variables have very few non-zero values, such as loan advances for instance. `deferral_payment` might not be a very strong predictor, but the other variables seem all significant. However we need to be warry of not duplicating information, so we should probably not include `total_payments` (which is the sum of all other pay-related features), or conversely we should only keep the total but not (all) the elements making it up."
   ]
  },
  {
   "cell_type": "markdown",
   "metadata": {},
   "source": [
    "Let's continue with the stock value features:"
   ]
  },
  {
   "cell_type": "code",
   "execution_count": 151,
   "metadata": {
    "collapsed": true
   },
   "outputs": [],
   "source": [
    "data_df.loc[:, 'restricted_stock_deferred'] = np.abs(data_df.loc[:, 'restricted_stock_deferred'])"
   ]
  },
  {
   "cell_type": "code",
   "execution_count": 152,
   "metadata": {
    "collapsed": false
   },
   "outputs": [
    {
     "data": {
      "image/png": "[encoded data removed]",
      "text/plain": [
       "<matplotlib.figure.Figure at 0x7ffa324c5f90>"
      ]
     },
     "metadata": {},
     "output_type": "display_data"
    }
   ],
   "source": [
    "fig, axes = plt.subplots(2, 2, sharey = False, figsize = (10, 10))\n",
    "bp = data_df.boxplot(['restricted_stock_deferred', 'exercised_stock_options', \n",
    "                      'restricted_stock', 'total_stock_value'], by = 'poi', \n",
    "                      ax = axes)\n",
    "for i in range(2):\n",
    "    for j in range(2):\n",
    "        axes[i][j].set_yscale('log')\n",
    "        axes[i][j].set_ylim(1000, None)"
   ]
  },
  {
   "cell_type": "markdown",
   "metadata": {},
   "source": [
    "It appears that only non-POI have non-zero values for `restricted_stock_deferred`. However the number of non-zero observations is low. The other predictors all seem useful, but `total_stock_value` is the sum of all of them so we may need to choose whether to keep the total or the individual predictors that make it up."
   ]
  },
  {
   "cell_type": "markdown",
   "metadata": {},
   "source": [
    "Finally, let's have a look at the email features:"
   ]
  },
  {
   "cell_type": "code",
   "execution_count": 153,
   "metadata": {
    "collapsed": false
   },
   "outputs": [
    {
     "data": {
      "image/png": "[encoded data removed]",
      "text/plain": [
       "<matplotlib.figure.Figure at 0x7ffa30c74610>"
      ]
     },
     "metadata": {},
     "output_type": "display_data"
    }
   ],
   "source": [
    "fig, axes = plt.subplots(1, 5, sharey = False, figsize = (20, 10))\n",
    "bp = data_df.boxplot(['to_messages', 'from_messages', 'from_poi_to_this_person', \n",
    "                      'from_this_person_to_poi', 'shared_receipt_with_poi'], by = 'poi', \n",
    "                      ax = axes)\n",
    "for i in range(5):\n",
    "    axes[i].set_yscale('log')\n",
    "    axes[i].set_ylim(1, None)"
   ]
  },
  {
   "cell_type": "markdown",
   "metadata": {},
   "source": [
    "All these predictors seem relevant to predict the POI status of a member of staff.\n",
    "Note that there seems to be a circular logic in these features: To predict whether or not someone is a POI, we look at whether they sent emails or received emails from other POIs, which implies that we already know if they are POIs or not..."
   ]
  },
  {
   "cell_type": "markdown",
   "metadata": {},
   "source": [
    "### Synthetic features"
   ]
  },
  {
   "cell_type": "markdown",
   "metadata": {},
   "source": [
    "Given the small dataset size, I would like to restrict the number of predictors to as low a number as possible. To that end, I will try to aggregate some of the variables in a meaningful way.\n",
    "My first idea is to use the email features to look at from / to ratios and total number of emails involving POIs."
   ]
  },
  {
   "cell_type": "code",
   "execution_count": 154,
   "metadata": {
    "collapsed": false
   },
   "outputs": [],
   "source": [
    "extended_data = data_df.loc[:, ['poi', 'salary', 'bonus', 'expenses', 'director_fees']]\n",
    "extended_data.loc[:, 'sent_vs_received'] = data_df.loc[:, 'from_messages'] / data_df.loc[:, 'to_messages']\n",
    "extended_data.loc[:, 'total_emails']= data_df.loc[:, 'from_messages'] + data_df.loc[:, 'to_messages']\n",
    "extended_data.loc[:, 'emails_with_poi'] = data_df.loc[:, 'from_this_person_to_poi'] + \\\n",
    "    data_df.loc[:, 'from_poi_to_this_person'] + \\\n",
    "    data_df.loc[:, 'shared_receipt_with_poi']"
   ]
  },
  {
   "cell_type": "markdown",
   "metadata": {},
   "source": [
    "Let's see if these variables teach us anything:"
   ]
  },
  {
   "cell_type": "code",
   "execution_count": 155,
   "metadata": {
    "collapsed": false,
    "scrolled": false
   },
   "outputs": [
    {
     "data": {
      "image/png": "[encoded data removed]",
      "text/plain": [
       "<matplotlib.figure.Figure at 0x7ffa31518b10>"
      ]
     },
     "metadata": {},
     "output_type": "display_data"
    }
   ],
   "source": [
    "fig, axes = plt.subplots(1, 3, sharey = False, figsize = (15, 10))\n",
    "bp = extended_data.boxplot(['sent_vs_received', 'total_emails', 'emails_with_poi'], by = 'poi', \n",
    "                           ax = axes)"
   ]
  },
  {
   "cell_type": "markdown",
   "metadata": {},
   "source": [
    "The boxes for POI / non-POI in the first plot overlap quite a lot, meaning the predictor might not be as useful as others, but median values are quite diffent. It seems that on average, POI tend to send far less emails than they receive, which is intuitively consistent with senior executives being cc'd on a lot of conversations."
   ]
  },
  {
   "cell_type": "markdown",
   "metadata": {},
   "source": [
    "### Feature selection"
   ]
  },
  {
   "cell_type": "markdown",
   "metadata": {},
   "source": [
    "Based on the analysis above, I will make a feature selection for my first model, bearing in mind the need to keep the feature count as low as possible. There are also some variables that need to be converted to their logarithmic values.\n",
    "\n",
    "Note: By accident, I discovered that keeping both \n",
    "\n",
    "Selected features:\n",
    "\n",
    "* `salary`\n",
    "* log(`bonus`)\n",
    "* `expenses`\n",
    "* `director_fees`\n",
    "* log(`deferred_income`)\n",
    "* log(`long_term_incentive`)\n",
    "* log(`other`)\n",
    "* log(`restricted_stock_deferred`)\n",
    "* log(`total_stock_value`)\n",
    "* `sent_vs_received`\n",
    "* `total_emails`\n",
    "* `emails_with_poi`"
   ]
  },
  {
   "cell_type": "code",
   "execution_count": 156,
   "metadata": {
    "collapsed": false
   },
   "outputs": [
    {
     "name": "stdout",
     "output_type": "stream",
     "text": [
      "['poi', 'salary', 'bonus', 'expenses', 'director_fees', 'sent_vs_received', 'total_emails', 'emails_with_poi', 'log_bonus', 'log_deferred_income', 'log_long_term_incentive', 'log_other', 'log_restricted_stock_deferred', 'log_total_stock_value']\n"
     ]
    }
   ],
   "source": [
    "# Create and export final dataset\n",
    "extended_data.loc[:, 'log_bonus'] =  np.log(data_df.loc[:, 'bonus'])\n",
    "extended_data.loc[:, 'log_deferred_income'] =  np.log(data_df.loc[:, 'deferred_income'])\n",
    "extended_data.loc[:, 'log_long_term_incentive'] =  np.log(data_df.loc[:, 'long_term_incentive'])\n",
    "extended_data.loc[:, 'log_other'] =  np.log(data_df.loc[:, 'other'])\n",
    "extended_data.loc[:, 'log_restricted_stock_deferred'] =  np.log(data_df.loc[:, 'restricted_stock_deferred'])\n",
    "extended_data.loc[:, 'log_total_stock_value'] =  np.log(data_df.loc[:, 'total_stock_value'])\n",
    "\n",
    "# List of features used in the model\n",
    "features_list = list(extended_data.columns)\n",
    "\n",
    "# Put dataset into the dict format expected by the test module\n",
    "my_data_dict = extended_data.to_dict(orient = 'index')\n",
    "\n",
    "print features_list"
   ]
  },
  {
   "cell_type": "code",
   "execution_count": 157,
   "metadata": {
    "collapsed": false
   },
   "outputs": [
    {
     "data": {
      "text/html": [
       "<div>\n",
       "<style>\n",
       "    .dataframe thead tr:only-child th {\n",
       "        text-align: right;\n",
       "    }\n",
       "\n",
       "    .dataframe thead th {\n",
       "        text-align: left;\n",
       "    }\n",
       "\n",
       "    .dataframe tbody tr th {\n",
       "        vertical-align: top;\n",
       "    }\n",
       "</style>\n",
       "<table border=\"1\" class=\"dataframe\">\n",
       "  <thead>\n",
       "    <tr style=\"text-align: right;\">\n",
       "      <th></th>\n",
       "      <th>poi</th>\n",
       "      <th>salary</th>\n",
       "      <th>bonus</th>\n",
       "      <th>expenses</th>\n",
       "      <th>director_fees</th>\n",
       "      <th>sent_vs_received</th>\n",
       "      <th>total_emails</th>\n",
       "      <th>emails_with_poi</th>\n",
       "      <th>log_bonus</th>\n",
       "      <th>log_deferred_income</th>\n",
       "      <th>log_long_term_incentive</th>\n",
       "      <th>log_other</th>\n",
       "      <th>log_restricted_stock_deferred</th>\n",
       "      <th>log_total_stock_value</th>\n",
       "    </tr>\n",
       "  </thead>\n",
       "  <tbody>\n",
       "    <tr>\n",
       "      <th>count</th>\n",
       "      <td>144.000000</td>\n",
       "      <td>1.440000e+02</td>\n",
       "      <td>1.440000e+02</td>\n",
       "      <td>144.000000</td>\n",
       "      <td>144.000000</td>\n",
       "      <td>144.000000</td>\n",
       "      <td>144.000000</td>\n",
       "      <td>144.000000</td>\n",
       "      <td>144.000000</td>\n",
       "      <td>144.000000</td>\n",
       "      <td>144.000000</td>\n",
       "      <td>144.000000</td>\n",
       "      <td>144.000000</td>\n",
       "      <td>144.000000</td>\n",
       "    </tr>\n",
       "    <tr>\n",
       "      <th>mean</th>\n",
       "      <td>0.125000</td>\n",
       "      <td>1.854460e+05</td>\n",
       "      <td>6.759974e+05</td>\n",
       "      <td>36355.541670</td>\n",
       "      <td>9711.923620</td>\n",
       "      <td>0.510613</td>\n",
       "      <td>1602.138897</td>\n",
       "      <td>765.993068</td>\n",
       "      <td>2.590001</td>\n",
       "      <td>-3.555978</td>\n",
       "      <td>-0.423050</td>\n",
       "      <td>1.870647</td>\n",
       "      <td>-8.711528</td>\n",
       "      <td>10.683963</td>\n",
       "    </tr>\n",
       "    <tr>\n",
       "      <th>std</th>\n",
       "      <td>0.331873</td>\n",
       "      <td>1.970421e+05</td>\n",
       "      <td>1.233155e+06</td>\n",
       "      <td>45990.417222</td>\n",
       "      <td>30422.534937</td>\n",
       "      <td>0.498352</td>\n",
       "      <td>3226.505841</td>\n",
       "      <td>1177.218110</td>\n",
       "      <td>12.499789</td>\n",
       "      <td>11.177331</td>\n",
       "      <td>12.285673</td>\n",
       "      <td>10.717991</td>\n",
       "      <td>7.694978</td>\n",
       "      <td>8.786104</td>\n",
       "    </tr>\n",
       "    <tr>\n",
       "      <th>min</th>\n",
       "      <td>0.000000</td>\n",
       "      <td>1.000000e-05</td>\n",
       "      <td>1.000000e-05</td>\n",
       "      <td>0.000010</td>\n",
       "      <td>0.000010</td>\n",
       "      <td>0.005657</td>\n",
       "      <td>0.000020</td>\n",
       "      <td>0.000030</td>\n",
       "      <td>-11.512925</td>\n",
       "      <td>-11.512925</td>\n",
       "      <td>-11.512925</td>\n",
       "      <td>-11.512925</td>\n",
       "      <td>-11.512925</td>\n",
       "      <td>-11.512925</td>\n",
       "    </tr>\n",
       "    <tr>\n",
       "      <th>25%</th>\n",
       "      <td>0.000000</td>\n",
       "      <td>1.000000e-05</td>\n",
       "      <td>1.000000e-05</td>\n",
       "      <td>0.000010</td>\n",
       "      <td>0.000010</td>\n",
       "      <td>0.043209</td>\n",
       "      <td>0.000020</td>\n",
       "      <td>0.000030</td>\n",
       "      <td>-11.512925</td>\n",
       "      <td>-11.512925</td>\n",
       "      <td>-11.512925</td>\n",
       "      <td>-11.512925</td>\n",
       "      <td>-11.512925</td>\n",
       "      <td>12.454355</td>\n",
       "    </tr>\n",
       "    <tr>\n",
       "      <th>50%</th>\n",
       "      <td>0.000000</td>\n",
       "      <td>2.105960e+05</td>\n",
       "      <td>3.000000e+05</td>\n",
       "      <td>21937.000000</td>\n",
       "      <td>0.000010</td>\n",
       "      <td>0.287378</td>\n",
       "      <td>378.500000</td>\n",
       "      <td>126.500000</td>\n",
       "      <td>12.611538</td>\n",
       "      <td>-11.512925</td>\n",
       "      <td>-11.512925</td>\n",
       "      <td>6.782712</td>\n",
       "      <td>-11.512925</td>\n",
       "      <td>13.795843</td>\n",
       "    </tr>\n",
       "    <tr>\n",
       "      <th>75%</th>\n",
       "      <td>0.000000</td>\n",
       "      <td>2.696675e+05</td>\n",
       "      <td>8.000000e+05</td>\n",
       "      <td>54234.500000</td>\n",
       "      <td>0.000010</td>\n",
       "      <td>1.000000</td>\n",
       "      <td>1762.250000</td>\n",
       "      <td>1000.250000</td>\n",
       "      <td>13.592367</td>\n",
       "      <td>10.572656</td>\n",
       "      <td>12.833577</td>\n",
       "      <td>11.908832</td>\n",
       "      <td>-11.512925</td>\n",
       "      <td>14.679117</td>\n",
       "    </tr>\n",
       "    <tr>\n",
       "      <th>max</th>\n",
       "      <td>1.000000</td>\n",
       "      <td>1.111258e+06</td>\n",
       "      <td>8.000000e+06</td>\n",
       "      <td>228763.000000</td>\n",
       "      <td>125034.000000</td>\n",
       "      <td>3.118732</td>\n",
       "      <td>19513.000000</td>\n",
       "      <td>5857.000000</td>\n",
       "      <td>15.894952</td>\n",
       "      <td>15.069526</td>\n",
       "      <td>15.453620</td>\n",
       "      <td>16.153437</td>\n",
       "      <td>14.772747</td>\n",
       "      <td>17.709575</td>\n",
       "    </tr>\n",
       "  </tbody>\n",
       "</table>\n",
       "</div>"
      ],
      "text/plain": [
       "              poi        salary         bonus       expenses  director_fees  \\\n",
       "count  144.000000  1.440000e+02  1.440000e+02     144.000000     144.000000   \n",
       "mean     0.125000  1.854460e+05  6.759974e+05   36355.541670    9711.923620   \n",
       "std      0.331873  1.970421e+05  1.233155e+06   45990.417222   30422.534937   \n",
       "min      0.000000  1.000000e-05  1.000000e-05       0.000010       0.000010   \n",
       "25%      0.000000  1.000000e-05  1.000000e-05       0.000010       0.000010   \n",
       "50%      0.000000  2.105960e+05  3.000000e+05   21937.000000       0.000010   \n",
       "75%      0.000000  2.696675e+05  8.000000e+05   54234.500000       0.000010   \n",
       "max      1.000000  1.111258e+06  8.000000e+06  228763.000000  125034.000000   \n",
       "\n",
       "       sent_vs_received  total_emails  emails_with_poi   log_bonus  \\\n",
       "count        144.000000    144.000000       144.000000  144.000000   \n",
       "mean           0.510613   1602.138897       765.993068    2.590001   \n",
       "std            0.498352   3226.505841      1177.218110   12.499789   \n",
       "min            0.005657      0.000020         0.000030  -11.512925   \n",
       "25%            0.043209      0.000020         0.000030  -11.512925   \n",
       "50%            0.287378    378.500000       126.500000   12.611538   \n",
       "75%            1.000000   1762.250000      1000.250000   13.592367   \n",
       "max            3.118732  19513.000000      5857.000000   15.894952   \n",
       "\n",
       "       log_deferred_income  log_long_term_incentive   log_other  \\\n",
       "count           144.000000               144.000000  144.000000   \n",
       "mean             -3.555978                -0.423050    1.870647   \n",
       "std              11.177331                12.285673   10.717991   \n",
       "min             -11.512925               -11.512925  -11.512925   \n",
       "25%             -11.512925               -11.512925  -11.512925   \n",
       "50%             -11.512925               -11.512925    6.782712   \n",
       "75%              10.572656                12.833577   11.908832   \n",
       "max              15.069526                15.453620   16.153437   \n",
       "\n",
       "       log_restricted_stock_deferred  log_total_stock_value  \n",
       "count                     144.000000             144.000000  \n",
       "mean                       -8.711528              10.683963  \n",
       "std                         7.694978               8.786104  \n",
       "min                       -11.512925             -11.512925  \n",
       "25%                       -11.512925              12.454355  \n",
       "50%                       -11.512925              13.795843  \n",
       "75%                       -11.512925              14.679117  \n",
       "max                        14.772747              17.709575  "
      ]
     },
     "execution_count": 157,
     "metadata": {},
     "output_type": "execute_result"
    }
   ],
   "source": [
    "extended_data.describe()"
   ]
  },
  {
   "cell_type": "code",
   "execution_count": 158,
   "metadata": {
    "collapsed": false
   },
   "outputs": [
    {
     "data": {
      "text/plain": [
       "Index([u'poi', u'salary', u'bonus', u'expenses', u'director_fees',\n",
       "       u'sent_vs_received', u'total_emails', u'emails_with_poi', u'log_bonus',\n",
       "       u'log_deferred_income', u'log_long_term_incentive', u'log_other',\n",
       "       u'log_restricted_stock_deferred', u'log_total_stock_value'],\n",
       "      dtype='object')"
      ]
     },
     "execution_count": 158,
     "metadata": {},
     "output_type": "execute_result"
    }
   ],
   "source": [
    "extended_data.columns"
   ]
  }
 ],
 "metadata": {
  "kernelspec": {
   "display_name": "Python 2",
   "language": "python",
   "name": "python2"
  },
  "language_info": {
   "codemirror_mode": {
    "name": "ipython",
    "version": 2
   },
   "file_extension": ".py",
   "mimetype": "text/x-python",
   "name": "python",
   "nbconvert_exporter": "python",
   "pygments_lexer": "ipython2",
   "version": "2.7.13"
  }
 },
 "nbformat": 4,
 "nbformat_minor": 2
}
